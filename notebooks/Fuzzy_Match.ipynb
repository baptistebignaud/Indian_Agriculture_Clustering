{
 "cells": [
  {
   "cell_type": "markdown",
   "id": "c7359f57-b266-4d63-9a93-a83529abd11c",
   "metadata": {
    "tags": []
   },
   "source": [
    "# Import librairies"
   ]
  },
  {
   "cell_type": "code",
   "execution_count": 3,
   "id": "16f32d92-e483-4f2a-a636-52abce7e7e49",
   "metadata": {},
   "outputs": [],
   "source": [
    "import os\n",
    "\n",
    "seed = 42\n",
    "os.environ[\"PYTHONHASHSEED\"] = str(seed)\n",
    "import sys\n",
    "import random\n",
    "\n",
    "sys.path.append(\"../utile\")\n",
    "sys.path.append(\"..\")\n",
    "import random\n",
    "from database import create_cnx, config_parse\n",
    "import pandas as pd\n",
    "\n",
    "import numpy as np\n",
    "import matplotlib.pyplot as plt\n",
    "\n",
    "path = \"../data\"\n",
    "plt.rcParams[\"figure.figsize\"] = (15, 15)\n",
    "\n",
    "\n",
    "random.seed(seed)\n",
    "np.random.seed(seed)"
   ]
  },
  {
   "cell_type": "markdown",
   "id": "46908434-5b28-4d4d-b3b5-ee74f1f152fd",
   "metadata": {},
   "source": [
    "# Loading data and utile functions"
   ]
  },
  {
   "cell_type": "markdown",
   "id": "9c151200-0515-4a68-9de2-9908f3a1d0c2",
   "metadata": {},
   "source": [
    "## Loading data from database"
   ]
  },
  {
   "cell_type": "code",
   "execution_count": 14,
   "id": "abed85b3-0fe5-4cbb-a76f-51bbdf044a1a",
   "metadata": {
    "tags": []
   },
   "outputs": [],
   "source": [
    "# Select all States, Districts, Sub_Districts, Blocks, GPs in the raw dataset to link it to the prediction file\n",
    "parser = config_parse()\n",
    "cnx = create_cnx(parser)[\"cnx\"]\n",
    "curs = cnx.cursor()\n",
    "season = \"rabi\"\n",
    "sql_request = f\"\"\"SELECT DISTINCT State, District, Sub_District, Block, GP from data_SCOR WHERE Season = \"{season}\" ORDER BY RAND() \"\"\"\n",
    "\n",
    "curs.execute(sql_request)\n",
    "names = [x[0] for x in curs.description]\n",
    "rows = curs.fetchall()\n",
    "df = pd.DataFrame(rows, columns=names)\n",
    "# df.drop(\"id\", inplace=True, axis=1)\n",
    "# df.dropna(axis=0, how=\"all\", inplace=True)"
   ]
  },
  {
   "cell_type": "markdown",
   "id": "1a367446-96ee-4d4b-8f4d-439a6fac559f",
   "metadata": {},
   "source": [
    "# Display no matchs rate between raw dataset and prediction file"
   ]
  },
  {
   "cell_type": "code",
   "execution_count": 15,
   "id": "5f6d3a92-bf24-4e7f-827a-159c74b23d7f",
   "metadata": {},
   "outputs": [],
   "source": [
    "# Get all unique states, districts and blocks for raw dataset\n",
    "state = df[\"State\"].unique().tolist()\n",
    "district = df[\"District\"].unique().tolist()\n",
    "sub_district = df[\"Sub_District\"].unique().tolist()\n",
    "block = df[\"Block\"].unique().tolist()"
   ]
  },
  {
   "cell_type": "code",
   "execution_count": 16,
   "id": "96011eca-eb51-4a40-9008-894eaf634e37",
   "metadata": {},
   "outputs": [],
   "source": [
    "# Load prediction file for season\n",
    "path = os.path.join(\"..\", f\"03_Prediction\", f\"GP_Pred_{season.title()}_ID.csv\")\n",
    "df_to_predict = pd.read_csv(path)"
   ]
  },
  {
   "cell_type": "code",
   "execution_count": 17,
   "id": "e61612e4-60c1-4299-ba4d-79aef7427b08",
   "metadata": {},
   "outputs": [],
   "source": [
    "# Get all unique states, districts and blocks for prediction file\n",
    "df_to_predict.rename(columns={\"Sub-District\": \"Sub_District\"}, inplace=True)\n",
    "pred_state = df_to_predict[\"State\"].unique().tolist()\n",
    "pred_block = df_to_predict[\"Block\"].unique().tolist()\n",
    "pred_district = df_to_predict[\"District\"].unique().tolist()\n",
    "pred_sub_district = df_to_predict[\"Sub_District\"].unique().tolist()"
   ]
  },
  {
   "cell_type": "code",
   "execution_count": 18,
   "id": "da7856bf-4692-4b7a-b4bf-672578f85b59",
   "metadata": {},
   "outputs": [
    {
     "name": "stdout",
     "output_type": "stream",
     "text": [
      "Rate of States in pred files and not in raw dataset 6%\n",
      "\n",
      "Rate of Districts in pred files and not in raw dataset 7%\n",
      "\n",
      "Rate of Sub_Districts in pred files and not in raw dataset 35%\n",
      "\n",
      "Rate of block in pred files and not in raw dataset 60%\n",
      "\n"
     ]
    }
   ],
   "source": [
    "print(\n",
    "    f\"Rate of States in pred files and not in raw dataset {int(100*len(set(pred_state)-set(state))/len(set(pred_state)))}%\"\n",
    ")\n",
    "print()\n",
    "print(\n",
    "    f\"Rate of Districts in pred files and not in raw dataset {int(100*len(set(pred_district)-set(district))/len(set(pred_district)))}%\"\n",
    ")\n",
    "print()\n",
    "print(\n",
    "    f\"Rate of Sub_Districts in pred files and not in raw dataset {int(100*len(set(pred_sub_district)-set(sub_district))/len(set(pred_sub_district)))}%\"\n",
    ")\n",
    "print()\n",
    "print(\n",
    "    f\"Rate of block in pred files and not in raw dataset {int(100*len(set(pred_block)-set(block))/len(set(pred_block)))}%\"\n",
    ")\n",
    "print()"
   ]
  },
  {
   "cell_type": "code",
   "execution_count": 19,
   "id": "2184899d-7410-46ff-8d68-74359b7deb79",
   "metadata": {},
   "outputs": [],
   "source": [
    "# Create a unique string with States, Districts,Sub_Districts and Blocks\n",
    "def unique_string(x):\n",
    "    d = [x[\"State\"], x[\"District\"], x[\"Sub_District\"], x[\"Block\"]]\n",
    "    L = [\"None\" if elem in [None, np.NAN] else str(elem) for elem in d]\n",
    "    return \"/sep/\".join(L)\n",
    "\n",
    "\n",
    "df[\"loc_string\"] = df.apply(unique_string, axis=1)\n",
    "df_to_predict[\"loc_string\"] = df_to_predict.apply(unique_string, axis=1)"
   ]
  },
  {
   "cell_type": "code",
   "execution_count": 20,
   "id": "d0851b1e-ef2a-463f-869b-6a38863d638e",
   "metadata": {},
   "outputs": [],
   "source": [
    "# Tests but not efficient enough to be run\n",
    "# Use get_close_matches for fuzzy match\n",
    "# from difflib import get_close_matches\n",
    "# COUNT = 0\n",
    "\n",
    "# def increment():\n",
    "#     global COUNT\n",
    "#     COUNT = COUNT+1\n",
    "\n",
    "# def get_match(x):\n",
    "#     increment()\n",
    "#     if COUNT%1000==0:\n",
    "#         print(COUNT)\n",
    "#     if not dfright[dfright[\"loc_string\"]==x].empty:\n",
    "#         return x\n",
    "#     else:\n",
    "#         try:\n",
    "#             return get_close_matches(x,dfright[\"loc_string\"])[0]\n",
    "#         except:\n",
    "#             return\n",
    "# dfleft = pd.DataFrame(df_to_predict[\"loc_string\"], columns = [\"loc_string\"]).drop_duplicates(ignore_index=False)\n",
    "# dfright = pd.DataFrame(df[\"loc_string\"], columns = [\"loc_string\"]).drop_duplicates(ignore_index=False)\n",
    "# dfleft[\"loc_string2\"] = dfleft[\"loc_string\"].apply(get_match)"
   ]
  },
  {
   "cell_type": "code",
   "execution_count": 21,
   "id": "f7e4670b-81ae-4524-9f8b-2f99568b41fb",
   "metadata": {},
   "outputs": [],
   "source": [
    "# Here we use a fuzzy match to get all values that are in the prediction file\n",
    "from fuzzymatcher import link_table, fuzzy_left_join\n",
    "\n",
    "left_on = [\"loc_string\"]\n",
    "right_on = [\"loc_string\"]\n",
    "dfleft = pd.DataFrame(\n",
    "    df_to_predict[\"loc_string\"], columns=[\"loc_string\"]\n",
    ").drop_duplicates(ignore_index=False)\n",
    "dfright = pd.DataFrame(df[\"loc_string\"], columns=[\"loc_string\"]).drop_duplicates(\n",
    "    ignore_index=False\n",
    ")\n",
    "fuzzy_match = fuzzy_left_join(dfleft, dfright, left_on, right_on)"
   ]
  },
  {
   "cell_type": "code",
   "execution_count": 22,
   "id": "21475122-4d15-4c20-85cc-ba53f6aa3e83",
   "metadata": {},
   "outputs": [
    {
     "data": {
      "text/html": [
       "<div>\n",
       "<style scoped>\n",
       "    .dataframe tbody tr th:only-of-type {\n",
       "        vertical-align: middle;\n",
       "    }\n",
       "\n",
       "    .dataframe tbody tr th {\n",
       "        vertical-align: top;\n",
       "    }\n",
       "\n",
       "    .dataframe thead th {\n",
       "        text-align: right;\n",
       "    }\n",
       "</style>\n",
       "<table border=\"1\" class=\"dataframe\">\n",
       "  <thead>\n",
       "    <tr style=\"text-align: right;\">\n",
       "      <th></th>\n",
       "      <th>best_match_score</th>\n",
       "      <th>__id_left</th>\n",
       "      <th>__id_right</th>\n",
       "      <th>loc_string_left</th>\n",
       "      <th>loc_string_right</th>\n",
       "    </tr>\n",
       "  </thead>\n",
       "  <tbody>\n",
       "    <tr>\n",
       "      <th>0</th>\n",
       "      <td>0.813499</td>\n",
       "      <td>0_left</td>\n",
       "      <td>10697_right</td>\n",
       "      <td>andhra pradesh/sep/anantapur/sep/vidapanakal/s...</td>\n",
       "      <td>andhra pradesh/sep/anantapur/sep/vidapanakal/s...</td>\n",
       "    </tr>\n",
       "    <tr>\n",
       "      <th>1</th>\n",
       "      <td>0.835273</td>\n",
       "      <td>1_left</td>\n",
       "      <td>7205_right</td>\n",
       "      <td>andhra pradesh/sep/anantapur/sep/vajrakarur/se...</td>\n",
       "      <td>andhra pradesh/sep/anantapur/sep/vajrakarur/se...</td>\n",
       "    </tr>\n",
       "    <tr>\n",
       "      <th>2</th>\n",
       "      <td>0.750306</td>\n",
       "      <td>2_left</td>\n",
       "      <td>14130_right</td>\n",
       "      <td>andhra pradesh/sep/anantapur/sep/gooty/sep/None</td>\n",
       "      <td>andhra pradesh/sep/anantapur/sep/gooty/sep/None</td>\n",
       "    </tr>\n",
       "    <tr>\n",
       "      <th>3</th>\n",
       "      <td>0.800559</td>\n",
       "      <td>3_left</td>\n",
       "      <td>3634_right</td>\n",
       "      <td>andhra pradesh/sep/anantapur/sep/guntakal/sep/...</td>\n",
       "      <td>andhra pradesh/sep/anantapur/sep/guntakal/sep/...</td>\n",
       "    </tr>\n",
       "    <tr>\n",
       "      <th>4</th>\n",
       "      <td>0.813499</td>\n",
       "      <td>4_left</td>\n",
       "      <td>5327_right</td>\n",
       "      <td>andhra pradesh/sep/anantapur/sep/pamidi/sep/None</td>\n",
       "      <td>andhra pradesh/sep/anantapur/sep/pamidi/sep/None</td>\n",
       "    </tr>\n",
       "    <tr>\n",
       "      <th>...</th>\n",
       "      <td>...</td>\n",
       "      <td>...</td>\n",
       "      <td>...</td>\n",
       "      <td>...</td>\n",
       "      <td>...</td>\n",
       "    </tr>\n",
       "    <tr>\n",
       "      <th>1014669</th>\n",
       "      <td>0.283099</td>\n",
       "      <td>45165_left</td>\n",
       "      <td>2405_right</td>\n",
       "      <td>uttar pradesh/sep/agra/sep/khandauli/sep/khanda</td>\n",
       "      <td>uttar pradesh/sep/agra/sep/eatmadpur/sep/khandoli</td>\n",
       "    </tr>\n",
       "    <tr>\n",
       "      <th>1014687</th>\n",
       "      <td>0.468471</td>\n",
       "      <td>45166_left</td>\n",
       "      <td>2405_right</td>\n",
       "      <td>uttar pradesh/sep/agra/sep/khandauli/sep/khand...</td>\n",
       "      <td>uttar pradesh/sep/agra/sep/eatmadpur/sep/khandoli</td>\n",
       "    </tr>\n",
       "    <tr>\n",
       "      <th>1014705</th>\n",
       "      <td>0.313202</td>\n",
       "      <td>45167_left</td>\n",
       "      <td>2405_right</td>\n",
       "      <td>uttar pradesh/sep/agra/sep/khandauli/sep/semra</td>\n",
       "      <td>uttar pradesh/sep/agra/sep/eatmadpur/sep/khandoli</td>\n",
       "    </tr>\n",
       "    <tr>\n",
       "      <th>1014723</th>\n",
       "      <td>0.306133</td>\n",
       "      <td>45168_left</td>\n",
       "      <td>3147_right</td>\n",
       "      <td>uttar pradesh/sep/agra/sep/shamsabad/sep/chitaura</td>\n",
       "      <td>uttar pradesh/sep/agra/sep/None/sep/shamshabad</td>\n",
       "    </tr>\n",
       "    <tr>\n",
       "      <th>1014741</th>\n",
       "      <td>0.135802</td>\n",
       "      <td>45169_left</td>\n",
       "      <td>3147_right</td>\n",
       "      <td>uttar pradesh/sep/agra/sep/shamsabad/sep/shahp...</td>\n",
       "      <td>uttar pradesh/sep/agra/sep/None/sep/shamshabad</td>\n",
       "    </tr>\n",
       "  </tbody>\n",
       "</table>\n",
       "<p>45170 rows × 5 columns</p>\n",
       "</div>"
      ],
      "text/plain": [
       "         best_match_score   __id_left   __id_right  \\\n",
       "0                0.813499      0_left  10697_right   \n",
       "1                0.835273      1_left   7205_right   \n",
       "2                0.750306      2_left  14130_right   \n",
       "3                0.800559      3_left   3634_right   \n",
       "4                0.813499      4_left   5327_right   \n",
       "...                   ...         ...          ...   \n",
       "1014669          0.283099  45165_left   2405_right   \n",
       "1014687          0.468471  45166_left   2405_right   \n",
       "1014705          0.313202  45167_left   2405_right   \n",
       "1014723          0.306133  45168_left   3147_right   \n",
       "1014741          0.135802  45169_left   3147_right   \n",
       "\n",
       "                                           loc_string_left  \\\n",
       "0        andhra pradesh/sep/anantapur/sep/vidapanakal/s...   \n",
       "1        andhra pradesh/sep/anantapur/sep/vajrakarur/se...   \n",
       "2          andhra pradesh/sep/anantapur/sep/gooty/sep/None   \n",
       "3        andhra pradesh/sep/anantapur/sep/guntakal/sep/...   \n",
       "4         andhra pradesh/sep/anantapur/sep/pamidi/sep/None   \n",
       "...                                                    ...   \n",
       "1014669    uttar pradesh/sep/agra/sep/khandauli/sep/khanda   \n",
       "1014687  uttar pradesh/sep/agra/sep/khandauli/sep/khand...   \n",
       "1014705     uttar pradesh/sep/agra/sep/khandauli/sep/semra   \n",
       "1014723  uttar pradesh/sep/agra/sep/shamsabad/sep/chitaura   \n",
       "1014741  uttar pradesh/sep/agra/sep/shamsabad/sep/shahp...   \n",
       "\n",
       "                                          loc_string_right  \n",
       "0        andhra pradesh/sep/anantapur/sep/vidapanakal/s...  \n",
       "1        andhra pradesh/sep/anantapur/sep/vajrakarur/se...  \n",
       "2          andhra pradesh/sep/anantapur/sep/gooty/sep/None  \n",
       "3        andhra pradesh/sep/anantapur/sep/guntakal/sep/...  \n",
       "4         andhra pradesh/sep/anantapur/sep/pamidi/sep/None  \n",
       "...                                                    ...  \n",
       "1014669  uttar pradesh/sep/agra/sep/eatmadpur/sep/khandoli  \n",
       "1014687  uttar pradesh/sep/agra/sep/eatmadpur/sep/khandoli  \n",
       "1014705  uttar pradesh/sep/agra/sep/eatmadpur/sep/khandoli  \n",
       "1014723     uttar pradesh/sep/agra/sep/None/sep/shamshabad  \n",
       "1014741     uttar pradesh/sep/agra/sep/None/sep/shamshabad  \n",
       "\n",
       "[45170 rows x 5 columns]"
      ]
     },
     "execution_count": 22,
     "metadata": {},
     "output_type": "execute_result"
    }
   ],
   "source": [
    "fuzzy_match"
   ]
  },
  {
   "cell_type": "code",
   "execution_count": 23,
   "id": "c2b7a187-4385-4331-b3f6-d32c373c5845",
   "metadata": {},
   "outputs": [],
   "source": [
    "# Export to be reused\n",
    "fuzzy_match.to_csv(f\"../material/files/fuzzy_match_{season}.csv\")"
   ]
  }
 ],
 "metadata": {
  "kernelspec": {
   "display_name": "Python 3 (ipykernel)",
   "language": "python",
   "name": "python3"
  },
  "language_info": {
   "codemirror_mode": {
    "name": "ipython",
    "version": 3
   },
   "file_extension": ".py",
   "mimetype": "text/x-python",
   "name": "python",
   "nbconvert_exporter": "python",
   "pygments_lexer": "ipython3",
   "version": "3.8.10"
  },
  "toc-autonumbering": true
 },
 "nbformat": 4,
 "nbformat_minor": 5
}

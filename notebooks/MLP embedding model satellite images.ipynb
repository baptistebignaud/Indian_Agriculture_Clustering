{
 "cells": [
  {
   "cell_type": "markdown",
   "id": "b61ddefe-1bfd-470b-af90-d7b5995e0e46",
   "metadata": {},
   "source": [
    "# Import librairies"
   ]
  },
  {
   "cell_type": "code",
   "execution_count": 1,
   "id": "d8c7050a-04e7-4bcd-820c-deeffc5db40f",
   "metadata": {},
   "outputs": [
    {
     "name": "stderr",
     "output_type": "stream",
     "text": [
      "2022-03-07 18:08:27.762374: I tensorflow/stream_executor/platform/default/dso_loader.cc:53] Successfully opened dynamic library libcudart.so.11.0\n",
      "Using TensorFlow backend.\n"
     ]
    }
   ],
   "source": [
    "import os\n",
    "\n",
    "seed = 42\n",
    "os.environ[\"PYTHONHASHSEED\"] = str(seed)\n",
    "\n",
    "import sys\n",
    "import random\n",
    "\n",
    "sys.path.append(\"../utile\")\n",
    "sys.path.append(\"..\")\n",
    "from database import create_cnx, config_parse\n",
    "import pandas as pd\n",
    "\n",
    "import numpy as np\n",
    "import matplotlib.pyplot as plt\n",
    "import seaborn as sns\n",
    "import os\n",
    "\n",
    "\n",
    "path = \"../data\"\n",
    "plt.rcParams[\"figure.figsize\"] = (15, 15)\n",
    "import base64\n",
    "\n",
    "from sklearn.cluster import KMeans\n",
    "from sklearn.metrics import davies_bouldin_score\n",
    "\n",
    "import tensorflow as tf\n",
    "from tensorflow.keras.layers import (\n",
    "    Input,\n",
    "    Embedding,\n",
    "    Concatenate,\n",
    "    Flatten,\n",
    "    Dense,\n",
    "    Dropout,\n",
    ")\n",
    "\n",
    "from tensorflow import keras\n",
    "from tensorflow.keras import Model, regularizers\n",
    "from sklearn.cluster import KMeans\n",
    "import keras.backend as K\n",
    "from tensorflow.keras.layers import Layer\n",
    "from tensorflow.keras.optimizers import SGD\n",
    "from tensorflow.keras.layers import InputSpec\n",
    "\n",
    "\n",
    "from model import Deep_Embedding_Model, DEC\n",
    "from data import DataSet\n",
    "\n",
    "from tqdm import tqdm\n",
    "\n",
    "\n",
    "from difflib import get_close_matches\n",
    "\n",
    "# from collections import defaultdic\n",
    "\n",
    "random.seed(seed)\n",
    "np.random.seed(seed)\n",
    "tf.random.set_seed(seed)"
   ]
  },
  {
   "cell_type": "code",
   "execution_count": 2,
   "id": "9f2e6993-6937-43f3-bce1-32e3e44c7996",
   "metadata": {
    "tags": []
   },
   "outputs": [
    {
     "name": "stderr",
     "output_type": "stream",
     "text": [
      "2022-03-07 18:08:38.656892: I tensorflow/stream_executor/platform/default/dso_loader.cc:53] Successfully opened dynamic library libcuda.so.1\n"
     ]
    },
    {
     "name": "stdout",
     "output_type": "stream",
     "text": [
      "Num GPUs Available:  1\n",
      "[PhysicalDevice(name='/physical_device:CPU:0', device_type='CPU'), PhysicalDevice(name='/physical_device:GPU:0', device_type='GPU')]\n"
     ]
    },
    {
     "name": "stderr",
     "output_type": "stream",
     "text": [
      "2022-03-07 18:08:39.361708: I tensorflow/stream_executor/cuda/cuda_gpu_executor.cc:923] could not open file to read NUMA node: /sys/bus/pci/devices/0000:02:00.0/numa_node\n",
      "Your kernel may have been built without NUMA support.\n",
      "2022-03-07 18:08:39.361790: I tensorflow/core/common_runtime/gpu/gpu_device.cc:1733] Found device 0 with properties: \n",
      "pciBusID: 0000:02:00.0 name: NVIDIA GeForce RTX 3060 Ti computeCapability: 8.6\n",
      "coreClock: 1.665GHz coreCount: 38 deviceMemorySize: 8.00GiB deviceMemoryBandwidth: 417.29GiB/s\n",
      "2022-03-07 18:08:39.361914: I tensorflow/stream_executor/platform/default/dso_loader.cc:53] Successfully opened dynamic library libcudart.so.11.0\n",
      "2022-03-07 18:08:39.746091: I tensorflow/stream_executor/platform/default/dso_loader.cc:53] Successfully opened dynamic library libcublas.so.11\n",
      "2022-03-07 18:08:39.746262: I tensorflow/stream_executor/platform/default/dso_loader.cc:53] Successfully opened dynamic library libcublasLt.so.11\n",
      "2022-03-07 18:08:39.864446: I tensorflow/stream_executor/platform/default/dso_loader.cc:53] Successfully opened dynamic library libcufft.so.10\n",
      "2022-03-07 18:08:39.897359: I tensorflow/stream_executor/platform/default/dso_loader.cc:53] Successfully opened dynamic library libcurand.so.10\n",
      "2022-03-07 18:08:39.907699: I tensorflow/stream_executor/platform/default/dso_loader.cc:53] Successfully opened dynamic library libcusolver.so.11\n",
      "2022-03-07 18:08:39.934885: I tensorflow/stream_executor/platform/default/dso_loader.cc:53] Successfully opened dynamic library libcusparse.so.11\n",
      "2022-03-07 18:08:39.936860: I tensorflow/stream_executor/platform/default/dso_loader.cc:53] Successfully opened dynamic library libcudnn.so.8\n",
      "2022-03-07 18:08:39.937439: I tensorflow/stream_executor/cuda/cuda_gpu_executor.cc:923] could not open file to read NUMA node: /sys/bus/pci/devices/0000:02:00.0/numa_node\n",
      "Your kernel may have been built without NUMA support.\n",
      "2022-03-07 18:08:39.937869: I tensorflow/stream_executor/cuda/cuda_gpu_executor.cc:923] could not open file to read NUMA node: /sys/bus/pci/devices/0000:02:00.0/numa_node\n",
      "Your kernel may have been built without NUMA support.\n",
      "2022-03-07 18:08:39.938468: I tensorflow/core/common_runtime/gpu/gpu_device.cc:1871] Adding visible gpu devices: 0\n"
     ]
    }
   ],
   "source": [
    "print(\"Num GPUs Available: \", len(tf.config.list_physical_devices(\"GPU\")))\n",
    "print(tf.config.list_physical_devices())\n",
    "\n",
    "# print(K._get_available_gpus())"
   ]
  },
  {
   "cell_type": "markdown",
   "id": "624e7796-5373-4be5-990d-4f4c4e2914e6",
   "metadata": {},
   "source": [
    "# Loading data and utile functions"
   ]
  },
  {
   "cell_type": "markdown",
   "id": "5a51d10e-f9f9-45b0-b446-189482cd7796",
   "metadata": {},
   "source": [
    "## Loading data from database"
   ]
  },
  {
   "cell_type": "code",
   "execution_count": 3,
   "id": "e313137e-68f2-4760-bcb9-988a97cc4261",
   "metadata": {
    "tags": []
   },
   "outputs": [
    {
     "name": "stdout",
     "output_type": "stream",
     "text": [
      "10000\n"
     ]
    },
    {
     "name": "stderr",
     "output_type": "stream",
     "text": [
      "/appli/notebooks/../utile/data.py:63: UserWarning: Pandas doesn't allow columns to be created via a new attribute name - see https://pandas.pydata.org/pandas-docs/stable/indexing.html#attribute-access\n",
      "  self.numeric_features = numeric_features\n",
      "/appli/notebooks/../utile/data.py:64: UserWarning: Pandas doesn't allow columns to be created via a new attribute name - see https://pandas.pydata.org/pandas-docs/stable/indexing.html#attribute-access\n",
      "  self.textual_features = textual_features\n",
      "/appli/notebooks/../utile/data.py:66: UserWarning: Pandas doesn't allow columns to be created via a new attribute name - see https://pandas.pydata.org/pandas-docs/stable/indexing.html#attribute-access\n",
      "  self.values_list_to_replace = values_list_to_replace\n"
     ]
    }
   ],
   "source": [
    "# Select the data for a given season\n",
    "parser = config_parse()\n",
    "cnx = create_cnx(parser)[\"cnx\"]\n",
    "curs = cnx.cursor()\n",
    "season = {kharif}\n",
    "sql_request = f\"\"\"SELECT DISTINCT * from data_SCOR WHERE Season = \"{season}\" ORDER BY RAND() LIMIT 10000\"\"\"\n",
    "curs.execute(sql_request)\n",
    "names = [x[0] for x in curs.description]\n",
    "rows = curs.fetchall()\n",
    "df = pd.DataFrame(rows, columns=names)\n",
    "numeric_features = [\n",
    "    \"Area_Sown_Ha\",\n",
    "    \"Area_Insured_Ha\",\n",
    "    \"SI_Per_Ha_Inr_Ha\",\n",
    "    \"Sum_Insured_Inr\",\n",
    "    \"Indemnity_Level\",\n",
    "]\n",
    "textual_features = [\n",
    "    \"District\",\n",
    "    \"Sub_District\",\n",
    "    \"Crop\",\n",
    "    \"Block\",\n",
    "    \"State\",\n",
    "    \"Cluster\",\n",
    "]\n",
    "df = DataSet(\n",
    "    numeric_features=numeric_features,\n",
    "    textual_features=textual_features,\n",
    "    data=rows,\n",
    "    columns=names,\n",
    ")\n",
    "# df = pd.DataFrame(rows, columns=names)\n",
    "df.drop(\"id\", inplace=True, axis=1)\n",
    "df.dropna(axis=0, how=\"all\", inplace=True)\n",
    "# df.drop(axis=1,labels='index', inplace=True)\n",
    "print(len(df))"
   ]
  },
  {
   "cell_type": "code",
   "execution_count": 4,
   "id": "a0798b21-3574-4dc6-8a0d-f2ce54d7fbac",
   "metadata": {},
   "outputs": [
    {
     "name": "stderr",
     "output_type": "stream",
     "text": [
      "/appli/notebooks/../utile/data.py:101: UserWarning: Pandas doesn't allow columns to be created via a new attribute name - see https://pandas.pydata.org/pandas-docs/stable/indexing.html#attribute-access\n",
      "  self.years_crop_yields = [f\"{year}_Yield\" for year in years_to_keep]\n"
     ]
    }
   ],
   "source": [
    "df_copy = DataSet(\n",
    "    numeric_features=numeric_features,\n",
    "    textual_features=textual_features,\n",
    "    data=rows,\n",
    "    columns=names,\n",
    ")\n",
    "# df.melt(id_vars=[\"location\", \"name\"],\n",
    "#         var_name=\"Date\",\n",
    "#         value_name=\"Value\")\n",
    "df_copy.set_years_to_keep()"
   ]
  },
  {
   "cell_type": "code",
   "execution_count": 5,
   "id": "6c2be328-abb3-4335-a535-6f050fa4af72",
   "metadata": {},
   "outputs": [
    {
     "data": {
      "text/plain": [
       "10000"
      ]
     },
     "execution_count": 5,
     "metadata": {},
     "output_type": "execute_result"
    }
   ],
   "source": [
    "len(df)"
   ]
  },
  {
   "cell_type": "markdown",
   "id": "b52e2fc8-68a5-4291-be8e-a952c6436507",
   "metadata": {},
   "source": [
    "## Import images paths"
   ]
  },
  {
   "cell_type": "code",
   "execution_count": 6,
   "id": "048da854-8cbe-49ba-aa40-728284461828",
   "metadata": {},
   "outputs": [],
   "source": [
    "# path = '../image_data/data'\n",
    "# list_directories = os.listdir(path)\n",
    "\n",
    "# Get all files paths to join SCOR datasets and images\n",
    "names_file = (\n",
    "    pd.read_csv(\n",
    "        \"../pre_trained_models/Encoder_prediction/list_files.csv\",\n",
    "        names=[\"id\", \"path\"],\n",
    "        header=None,\n",
    "    )[1:]\n",
    "    .drop(columns=[\"id\"])\n",
    "    .reset_index(drop=True)\n",
    ")\n",
    "list_directories = names_file[\"path\"].tolist()"
   ]
  },
  {
   "cell_type": "code",
   "execution_count": 7,
   "id": "ad32fb14-347a-4bd5-920e-7f5719a0d1bf",
   "metadata": {},
   "outputs": [
    {
     "name": "stderr",
     "output_type": "stream",
     "text": [
      "/appli/notebooks/../utile/data.py:65: UserWarning: Pandas doesn't allow columns to be created via a new attribute name - see https://pandas.pydata.org/pandas-docs/stable/indexing.html#attribute-access\n",
      "  self.ohe_features = ohe_features\n"
     ]
    }
   ],
   "source": [
    "# Define custom class Dataset with the usefull features\n",
    "numeric_features = [\n",
    "    \"Area_Sown_Ha\",\n",
    "    \"Area_Insured_Ha\",\n",
    "    \"SI_Per_Ha_Inr_Ha\",\n",
    "    \"Sum_Insured_Inr\",\n",
    "    \"Indemnity_Level\",\n",
    "]\n",
    "textual_features = [\n",
    "    \"District\",\n",
    "    \"Sub_District\",\n",
    "    \"Crop\",\n",
    "    \"Block\",\n",
    "    \"State\",\n",
    "    \"Cluster\",\n",
    "]\n",
    "ohe_features = [\"year\"]\n",
    "df = DataSet(\n",
    "    numeric_features=numeric_features,\n",
    "    textual_features=textual_features,\n",
    "    ohe_features=ohe_features,\n",
    "    data=df,\n",
    "    columns=df.columns,\n",
    ")\n",
    "years_yield = np.arange(2000, 2019, 1)\n",
    "YEARS = [f\"{year}_Yield\" for year in years_yield]\n",
    "# print(df_copy.years_crop_yields, YEARS)\n",
    "# df.drop(columns=list(set(YEARS) - set(df_copy.years_crop_yields)), inplace=True)\n",
    "df = df.rename(columns={year: year[:4] for year in df_copy.years_crop_yields})"
   ]
  },
  {
   "cell_type": "code",
   "execution_count": 11,
   "id": "79757f20-7a82-4612-8864-1562bf460240",
   "metadata": {},
   "outputs": [],
   "source": [
    "# Unpivot dataset to use images for each year\n",
    "df = df.melt(\n",
    "    id_vars=list(\n",
    "        set(df.columns) - set([year[:4] for year in df_copy.years_crop_yields])\n",
    "    ),\n",
    "    var_name=\"year\",\n",
    "    value_name=\"label\",\n",
    ")"
   ]
  },
  {
   "cell_type": "code",
   "execution_count": 12,
   "id": "7bf1337f-c7cf-4afd-99a6-f953630f09cf",
   "metadata": {},
   "outputs": [],
   "source": [
    "# Define images path names to link to encoded satellite images\n",
    "season = \"kharif\"\n",
    "seasons_date = {\"kharif\": [\"-04-16\", \"-10-15\"], \"rabi\": [\"-10-16\", \"-04-15\"]}\n",
    "\n",
    "\n",
    "def set_image_path(x):\n",
    "    state, district = x[\"State\"], x[\"District\"]\n",
    "    name = f\"('{state.title()}', '{district.title()}')\"\n",
    "    year = x[\"year\"]\n",
    "    if season == \"kharif\":\n",
    "        s0, s1 = seasons_date[season][0], seasons_date[season][1]\n",
    "        date = f\"'{year}{s0}', '{year}{s1}'\"\n",
    "    elif season == \"rabi\":\n",
    "        s0, s1 = seasons_date[season][0], season_date[season][1]\n",
    "        date = f\"'{year}{s0}', '{year+1}{s1}'\"\n",
    "\n",
    "    return f\"../image_data/data/[{date}]_{name}.png\"\n",
    "\n",
    "\n",
    "df[\"image\"] = df.apply(set_image_path, axis=1)"
   ]
  },
  {
   "cell_type": "code",
   "execution_count": 15,
   "id": "d743193e-0d6c-4d11-9c8c-c5eadaaae00c",
   "metadata": {},
   "outputs": [],
   "source": [
    "from os import path\n",
    "\n",
    "compt = 0\n",
    "regions = []\n",
    "# Identify regions that are not recognized within images files\n",
    "for i in range(len(df)):\n",
    "    if not path.exists(df.iloc[i][\"image\"]):\n",
    "        compt += 1\n",
    "        elem = [df.iloc[i][\"State\"], df.iloc[i][\"District\"]]\n",
    "        if elem not in regions:\n",
    "            regions.append(elem)\n",
    "        # districts.append(df.iloc[i][\"District\"])\n",
    "# regions = set(regions)\n",
    "\n",
    "# Identify states/districts that are in the images datasets\n",
    "list_directories_state = []\n",
    "list_directories_district = []\n",
    "char_to_replace = [\"(\", \")\", \".png\", \"'\"]\n",
    "for elem in list_directories:\n",
    "    a = elem.split(\"_\")[1]\n",
    "    for char in char_to_replace:\n",
    "        a = a.replace(char, \"\")\n",
    "    # Get names of states\n",
    "    list_directories_state.append([elements.lstrip() for elements in a.split(\",\")][0])\n",
    "    # Get names of districts\n",
    "    list_directories_district.append(\n",
    "        [elements.lstrip() for elements in a.split(\",\")][1]\n",
    "    )\n",
    "# Set of states/districts (to delete duplicates)\n",
    "list_directories_state = set(list_directories_state)\n",
    "list_directories_district = set(list_directories_district)\n",
    "\n",
    "# States districts not recognized\n",
    "states_not_recognized = [r[0].title() for r in regions]\n",
    "district_not_recognized = [r[1].title() for r in regions]\n",
    "district_not_recognized = set(district_not_recognized)\n",
    "# Some districts didn't match at all, so we manually pick nearest districts to replace them\n",
    "district_to_replace = {\n",
    "    \"Hooghly\": \"Hugli\",\n",
    "    \"Peddapalli\": \"Karimnagar\",\n",
    "    \"Cuddapah\": \"Kurnool\",\n",
    "    \"Beed\": \"Bid\",\n",
    "}\n",
    "\n",
    "# Set dictionnary for fuzzy match for districts between SCOR dataset and images dataset\n",
    "changes_district = {}\n",
    "for district in district_not_recognized:\n",
    "    if district in district_to_replace.keys():\n",
    "        changes_district[district] = district_to_replace[district]\n",
    "    elif district not in list_directories_district:\n",
    "        if get_close_matches(district, list_directories_district):\n",
    "            changes_district[district] = get_close_matches(\n",
    "                district, list_directories_district\n",
    "            )[0]\n",
    "        else:\n",
    "            try:\n",
    "                changes_district[district] = get_close_matches(\n",
    "                    district.split(\" \")[0], list_directories_district\n",
    "                )[0]\n",
    "                # print()\n",
    "            except:\n",
    "                prin(\"error\")"
   ]
  },
  {
   "cell_type": "code",
   "execution_count": 17,
   "id": "dc6becb2-2d53-4adf-904e-a303b1362350",
   "metadata": {},
   "outputs": [],
   "source": [
    "season = \"kharif\"\n",
    "df.dropna(subset=[\"label\"], inplace=True)\n",
    "seasons_date = {\"kharif\": [\"-04-16\", \"-10-15\"], \"rabi\": [\"-10-16\", \"-04-15\"]}\n",
    "\n",
    "# Readjust the name of the path for each mismatching file\n",
    "def set_image_path(x):\n",
    "    state, district = x[\"State\"], x[\"District\"]\n",
    "    try:\n",
    "        changes_district[district]\n",
    "    except:\n",
    "        pass\n",
    "    name = f\"('{state.title()}', '{district.title()}')\"\n",
    "    year = x[\"year\"]\n",
    "    if season == \"kharif\":\n",
    "        s0, s1 = seasons_date[season][0], seasons_date[season][1]\n",
    "        date = f\"'{year}{s0}', '{year}{s1}'\"\n",
    "    elif season == \"rabi\":\n",
    "        s0, s1 = seasons_date[season][0], season_date[season][1]\n",
    "        date = f\"'{year}{s0}', '{year+1}{s1}'\"\n",
    "\n",
    "    return f\"../image_data/data/[{date}]_{name}.png\"\n",
    "\n",
    "\n",
    "df[\"image\"] = df.apply(set_image_path, axis=1)"
   ]
  },
  {
   "cell_type": "markdown",
   "id": "14ee93f4-4ed6-43fb-837e-9a978c830088",
   "metadata": {},
   "source": [
    "## Import images encodings"
   ]
  },
  {
   "cell_type": "code",
   "execution_count": 18,
   "id": "32f24296-61b5-49a0-aba4-cd6e4e764761",
   "metadata": {},
   "outputs": [],
   "source": [
    "# Get encoded images and their corresponding names\n",
    "names_file = (\n",
    "    pd.read_csv(\n",
    "        \"../pre_trained_models/Encoder_prediction/list_files.csv\",\n",
    "        names=[\"id\", \"path\"],\n",
    "        header=None,\n",
    "    )[1:]\n",
    "    .drop(columns=[\"id\"])\n",
    "    .reset_index(drop=True)\n",
    ")\n",
    "matrix_images = np.load(\"../pre_trained_models/Encoder_prediction/encoding_array.npy\")"
   ]
  },
  {
   "cell_type": "code",
   "execution_count": 19,
   "id": "f280854a-0055-4e93-a50b-324728292cd4",
   "metadata": {},
   "outputs": [],
   "source": [
    "# Set the path to get the image\n",
    "names_file[\"path\"] = names_file[\"path\"].apply(lambda x: \"../image_data/\" + x)"
   ]
  },
  {
   "cell_type": "markdown",
   "id": "4c65ffe5-b61a-483c-892e-b27922663ee3",
   "metadata": {},
   "source": [
    "# Preprocessing and encoding"
   ]
  },
  {
   "cell_type": "markdown",
   "id": "d5215929-36de-4469-b1fc-e99086cdd8a8",
   "metadata": {},
   "source": [
    "## Pre-processing"
   ]
  },
  {
   "cell_type": "code",
   "execution_count": 20,
   "id": "3f7f32ff-5ceb-4399-80c8-ba9bf3e17ee9",
   "metadata": {},
   "outputs": [],
   "source": [
    "# Define custom class Dataset with the usefull features\n",
    "numeric_features = [\n",
    "    \"Area_Sown_Ha\",\n",
    "    \"Area_Insured_Ha\",\n",
    "    \"SI_Per_Ha_Inr_Ha\",\n",
    "    \"Sum_Insured_Inr\",\n",
    "    \"Indemnity_Level\",\n",
    "]\n",
    "textual_features = [\n",
    "    \"District\",\n",
    "    \"Sub_District\",\n",
    "    \"Crop\",\n",
    "    \"Block\",\n",
    "    \"State\",\n",
    "    \"Cluster\",\n",
    "]\n",
    "ohe_features = [\"year\"]\n",
    "df.reset_index(inplace=True, drop=True)\n",
    "df = DataSet(\n",
    "    numeric_features=numeric_features,\n",
    "    textual_features=textual_features,\n",
    "    ohe_features=ohe_features,\n",
    "    data=df,\n",
    "    columns=df.columns,\n",
    ")"
   ]
  },
  {
   "cell_type": "code",
   "execution_count": 21,
   "id": "96558c26-fbed-43a1-9543-45fb578e254f",
   "metadata": {
    "tags": []
   },
   "outputs": [
    {
     "name": "stderr",
     "output_type": "stream",
     "text": [
      "/appli/notebooks/../utile/data.py:171: FutureWarning: Index.__and__ operating as a set operation is deprecated, in the future this will be a logical operation matching Series.__and__.  Use index.intersection(other) instead\n",
      "  indx_non_null_other = reduce(\n"
     ]
    }
   ],
   "source": [
    "# Keep only crop yields years with enough data\n",
    "# df.set_years_to_keep()\n",
    "# Subset dataframe to keep only numeric features, textual features, and crop yields years\n",
    "# df.subset_data()\n",
    "# Preprocxess numeric features\n",
    "df.pre_process_numeric()\n",
    "# Preprocess textual features\n",
    "df.preprocess_textual()"
   ]
  },
  {
   "cell_type": "code",
   "execution_count": 22,
   "id": "4b60c642-24ea-46a9-8d56-f67751b09ab4",
   "metadata": {},
   "outputs": [
    {
     "data": {
      "text/plain": [
       "59192"
      ]
     },
     "execution_count": 22,
     "metadata": {},
     "output_type": "execute_result"
    }
   ],
   "source": [
    "len(df)"
   ]
  },
  {
   "cell_type": "markdown",
   "id": "6f4d1180-f7c1-4c87-aadf-0e8bc1bfac0e",
   "metadata": {},
   "source": [
    "## Encoding"
   ]
  },
  {
   "cell_type": "code",
   "execution_count": 23,
   "id": "218d838e-9486-437f-87e1-ba5a7962a89c",
   "metadata": {
    "tags": []
   },
   "outputs": [
    {
     "name": "stderr",
     "output_type": "stream",
     "text": [
      "/appli/notebooks/../utile/data.py:219: UserWarning: Pandas doesn't allow columns to be created via a new attribute name - see https://pandas.pydata.org/pandas-docs/stable/indexing.html#attribute-access\n",
      "  self.dict_shape = dict_shape\n",
      "/appli/notebooks/../utile/data.py:237: UserWarning: Pandas doesn't allow columns to be created via a new attribute name - see https://pandas.pydata.org/pandas-docs/stable/indexing.html#attribute-access\n",
      "  self.L_OHE = L_OHE\n",
      "/appli/notebooks/../utile/data.py:256: UserWarning: Pandas doesn't allow columns to be created via a new attribute name - see https://pandas.pydata.org/pandas-docs/stable/indexing.html#attribute-access\n",
      "  self.vocab = vocab\n"
     ]
    }
   ],
   "source": [
    "df.set_dict_shape()\n",
    "# Encode OHE feature\n",
    "df.encode_ohe()\n",
    "# Encode textual feature\n",
    "df.encode_textual()"
   ]
  },
  {
   "cell_type": "code",
   "execution_count": 24,
   "id": "e3490fd9-f4f4-4f25-993d-03aeac203b0e",
   "metadata": {},
   "outputs": [],
   "source": [
    "dict_shape = df.dict_shape"
   ]
  },
  {
   "cell_type": "code",
   "execution_count": 25,
   "id": "f549a230-e20c-425e-9be8-cc5bfa73d0c9",
   "metadata": {},
   "outputs": [
    {
     "data": {
      "text/plain": [
       "Index(['District', 'SI_Per_Ha_Inr_Ha', 'Crop', '2017_Yield', '2007_Yield',\n",
       "       '2008_Yield', 'Area_Insured_Ha', 'Cluster', '2003_Yield', '2002_Yield',\n",
       "       '2006_Yield', '2004_Yield', '2000_Yield', '2016_Yield', 'State', 'GP',\n",
       "       'Indemnity_Level', '2018_Yield', '2009_Yield', '2001_Yield',\n",
       "       '2005_Yield', 'Sum_Insured_Inr', 'Block', 'Area_Sown_Ha', 'Season',\n",
       "       'Sub_District', 'label', 'image', 'year_2010', 'year_2011', 'year_2012',\n",
       "       'year_2013', 'year_2014', 'year_2015'],\n",
       "      dtype='object')"
      ]
     },
     "execution_count": 25,
     "metadata": {},
     "output_type": "execute_result"
    }
   ],
   "source": [
    "df.columns"
   ]
  },
  {
   "cell_type": "markdown",
   "id": "ac19c106-be68-4a32-bc87-8099bca84af5",
   "metadata": {},
   "source": [
    "# Regression Model"
   ]
  },
  {
   "cell_type": "code",
   "execution_count": 27,
   "id": "d6c41ebd-4e9e-439b-92ae-840d8ed82f9a",
   "metadata": {},
   "outputs": [
    {
     "name": "stderr",
     "output_type": "stream",
     "text": [
      "2022-03-07 18:26:05.965014: I tensorflow/core/platform/cpu_feature_guard.cc:142] This TensorFlow binary is optimized with oneAPI Deep Neural Network Library (oneDNN) to use the following CPU instructions in performance-critical operations:  AVX2 AVX512F FMA\n",
      "To enable them in other operations, rebuild TensorFlow with the appropriate compiler flags.\n",
      "2022-03-07 18:26:05.971849: I tensorflow/stream_executor/cuda/cuda_gpu_executor.cc:923] could not open file to read NUMA node: /sys/bus/pci/devices/0000:02:00.0/numa_node\n",
      "Your kernel may have been built without NUMA support.\n",
      "2022-03-07 18:26:05.972441: I tensorflow/core/common_runtime/gpu/gpu_device.cc:1733] Found device 0 with properties: \n",
      "pciBusID: 0000:02:00.0 name: NVIDIA GeForce RTX 3060 Ti computeCapability: 8.6\n",
      "coreClock: 1.665GHz coreCount: 38 deviceMemorySize: 8.00GiB deviceMemoryBandwidth: 417.29GiB/s\n",
      "2022-03-07 18:26:05.972988: I tensorflow/stream_executor/cuda/cuda_gpu_executor.cc:923] could not open file to read NUMA node: /sys/bus/pci/devices/0000:02:00.0/numa_node\n",
      "Your kernel may have been built without NUMA support.\n",
      "2022-03-07 18:26:05.973408: I tensorflow/stream_executor/cuda/cuda_gpu_executor.cc:923] could not open file to read NUMA node: /sys/bus/pci/devices/0000:02:00.0/numa_node\n",
      "Your kernel may have been built without NUMA support.\n",
      "2022-03-07 18:26:05.973502: I tensorflow/core/common_runtime/gpu/gpu_device.cc:1871] Adding visible gpu devices: 0\n",
      "2022-03-07 18:26:05.977023: I tensorflow/stream_executor/platform/default/dso_loader.cc:53] Successfully opened dynamic library libcudart.so.11.0\n",
      "2022-03-07 18:26:08.655105: I tensorflow/core/common_runtime/gpu/gpu_device.cc:1258] Device interconnect StreamExecutor with strength 1 edge matrix:\n",
      "2022-03-07 18:26:08.655145: I tensorflow/core/common_runtime/gpu/gpu_device.cc:1264]      0 \n",
      "2022-03-07 18:26:08.655204: I tensorflow/core/common_runtime/gpu/gpu_device.cc:1277] 0:   N \n",
      "2022-03-07 18:26:08.655922: I tensorflow/stream_executor/cuda/cuda_gpu_executor.cc:923] could not open file to read NUMA node: /sys/bus/pci/devices/0000:02:00.0/numa_node\n",
      "Your kernel may have been built without NUMA support.\n",
      "2022-03-07 18:26:08.656431: I tensorflow/stream_executor/cuda/cuda_gpu_executor.cc:923] could not open file to read NUMA node: /sys/bus/pci/devices/0000:02:00.0/numa_node\n",
      "Your kernel may have been built without NUMA support.\n",
      "2022-03-07 18:26:08.656445: I tensorflow/core/common_runtime/gpu/gpu_device.cc:1501] Could not identify NUMA node of platform GPU id 0, defaulting to 0.  Your kernel may not have been built with NUMA support.\n",
      "2022-03-07 18:26:08.656683: I tensorflow/stream_executor/cuda/cuda_gpu_executor.cc:923] could not open file to read NUMA node: /sys/bus/pci/devices/0000:02:00.0/numa_node\n",
      "Your kernel may have been built without NUMA support.\n",
      "2022-03-07 18:26:08.657140: I tensorflow/core/common_runtime/gpu/gpu_device.cc:1418] Created TensorFlow device (/job:localhost/replica:0/task:0/device:GPU:0 with 5465 MB memory) -> physical GPU (device: 0, name: NVIDIA GeForce RTX 3060 Ti, pci bus id: 0000:02:00.0, compute capability: 8.6)\n"
     ]
    }
   ],
   "source": [
    "# Define model\n",
    "from model import Deep_Embedding_Model\n",
    "\n",
    "Dense_embedding_model = Deep_Embedding_Model(\n",
    "    dict_shape=dict_shape,\n",
    "    textual_features=textual_features,\n",
    "    numeric_features=numeric_features,\n",
    "    # ohe_features=df.L_OHE[0].tolist(),\n",
    "    outputs_shape=1,\n",
    "    image=True,\n",
    ").model()"
   ]
  },
  {
   "cell_type": "code",
   "execution_count": 28,
   "id": "b11493f1-497a-4918-a90c-30b43f88cd20",
   "metadata": {},
   "outputs": [
    {
     "name": "stdout",
     "output_type": "stream",
     "text": [
      "Model: \"Deep_embedded_model\"\n",
      "__________________________________________________________________________________________________\n",
      "Layer (type)                    Output Shape         Param #     Connected to                     \n",
      "==================================================================================================\n",
      "input_image (InputLayer)        [(None, 4, 4, 64)]   0                                            \n",
      "__________________________________________________________________________________________________\n",
      "input_District (InputLayer)     [(None, 1)]          0                                            \n",
      "__________________________________________________________________________________________________\n",
      "input_Sub_District (InputLayer) [(None, 1)]          0                                            \n",
      "__________________________________________________________________________________________________\n",
      "input_Crop (InputLayer)         [(None, 1)]          0                                            \n",
      "__________________________________________________________________________________________________\n",
      "input_Block (InputLayer)        [(None, 1)]          0                                            \n",
      "__________________________________________________________________________________________________\n",
      "input_State (InputLayer)        [(None, 1)]          0                                            \n",
      "__________________________________________________________________________________________________\n",
      "input_Cluster (InputLayer)      [(None, 1)]          0                                            \n",
      "__________________________________________________________________________________________________\n",
      "Flatten_image (Flatten)         (None, 1024)         0           input_image[0][0]                \n",
      "__________________________________________________________________________________________________\n",
      "Embedding_District (Embedding)  (None, 1, 20)        8680        input_District[0][0]             \n",
      "__________________________________________________________________________________________________\n",
      "Embedding_Sub_District (Embeddi (None, 1, 20)        44180       input_Sub_District[0][0]         \n",
      "__________________________________________________________________________________________________\n",
      "Embedding_Crop (Embedding)      (None, 1, 20)        1260        input_Crop[0][0]                 \n",
      "__________________________________________________________________________________________________\n",
      "Embedding_Block (Embedding)     (None, 1, 20)        56240       input_Block[0][0]                \n",
      "__________________________________________________________________________________________________\n",
      "Embedding_State (Embedding)     (None, 1, 20)        300         input_State[0][0]                \n",
      "__________________________________________________________________________________________________\n",
      "Embedding_Cluster (Embedding)   (None, 1, 20)        240         input_Cluster[0][0]              \n",
      "__________________________________________________________________________________________________\n",
      "Dense_layer_img_0 (Dense)       (None, 512)          524800      Flatten_image[0][0]              \n",
      "__________________________________________________________________________________________________\n",
      "Flatten_District (Flatten)      (None, 20)           0           Embedding_District[0][0]         \n",
      "__________________________________________________________________________________________________\n",
      "Flatten_Sub_District (Flatten)  (None, 20)           0           Embedding_Sub_District[0][0]     \n",
      "__________________________________________________________________________________________________\n",
      "Flatten_Crop (Flatten)          (None, 20)           0           Embedding_Crop[0][0]             \n",
      "__________________________________________________________________________________________________\n",
      "Flatten_Block (Flatten)         (None, 20)           0           Embedding_Block[0][0]            \n",
      "__________________________________________________________________________________________________\n",
      "Flatten_State (Flatten)         (None, 20)           0           Embedding_State[0][0]            \n",
      "__________________________________________________________________________________________________\n",
      "Flatten_Cluster (Flatten)       (None, 20)           0           Embedding_Cluster[0][0]          \n",
      "__________________________________________________________________________________________________\n",
      "input_Area_Sown_Ha (InputLayer) [(None, 1)]          0                                            \n",
      "__________________________________________________________________________________________________\n",
      "input_Area_Insured_Ha (InputLay [(None, 1)]          0                                            \n",
      "__________________________________________________________________________________________________\n",
      "input_SI_Per_Ha_Inr_Ha (InputLa [(None, 1)]          0                                            \n",
      "__________________________________________________________________________________________________\n",
      "input_Sum_Insured_Inr (InputLay [(None, 1)]          0                                            \n",
      "__________________________________________________________________________________________________\n",
      "input_Indemnity_Level (InputLay [(None, 1)]          0                                            \n",
      "__________________________________________________________________________________________________\n",
      "Dense_layer_img_1 (Dense)       (None, 256)          131328      Dense_layer_img_0[0][0]          \n",
      "__________________________________________________________________________________________________\n",
      "concatted (Concatenate)         (None, 125)          0           Flatten_District[0][0]           \n",
      "                                                                 Flatten_Sub_District[0][0]       \n",
      "                                                                 Flatten_Crop[0][0]               \n",
      "                                                                 Flatten_Block[0][0]              \n",
      "                                                                 Flatten_State[0][0]              \n",
      "                                                                 Flatten_Cluster[0][0]            \n",
      "                                                                 input_Area_Sown_Ha[0][0]         \n",
      "                                                                 input_Area_Insured_Ha[0][0]      \n",
      "                                                                 input_SI_Per_Ha_Inr_Ha[0][0]     \n",
      "                                                                 input_Sum_Insured_Inr[0][0]      \n",
      "                                                                 input_Indemnity_Level[0][0]      \n",
      "__________________________________________________________________________________________________\n",
      "Dense_layer_img_2 (Dense)       (None, 128)          32896       Dense_layer_img_1[0][0]          \n",
      "__________________________________________________________________________________________________\n",
      "concatted2 (Concatenate)        (None, 253)          0           concatted[0][0]                  \n",
      "                                                                 Dense_layer_img_2[0][0]          \n",
      "__________________________________________________________________________________________________\n",
      "Dense0 (Dense)                  (None, 100)          25400       concatted2[0][0]                 \n",
      "__________________________________________________________________________________________________\n",
      "Dropout0 (Dropout)              (None, 100)          0           Dense0[0][0]                     \n",
      "__________________________________________________________________________________________________\n",
      "Dense1 (Dense)                  (None, 50)           5050        Dropout0[0][0]                   \n",
      "__________________________________________________________________________________________________\n",
      "Dropout1 (Dropout)              (None, 50)           0           Dense1[0][0]                     \n",
      "__________________________________________________________________________________________________\n",
      "output (Dense)                  (None, 1)            51          Dropout1[0][0]                   \n",
      "==================================================================================================\n",
      "Total params: 830,425\n",
      "Trainable params: 830,425\n",
      "Non-trainable params: 0\n",
      "__________________________________________________________________________________________________\n"
     ]
    }
   ],
   "source": [
    "Dense_embedding_model.summary()"
   ]
  },
  {
   "cell_type": "markdown",
   "id": "c168fb50-a091-4f91-a6ab-321d7d196b39",
   "metadata": {},
   "source": [
    "## Model train and test"
   ]
  },
  {
   "cell_type": "code",
   "execution_count": 30,
   "id": "5cf99edb-a0a9-4891-a0f2-3c3d9bc87ad7",
   "metadata": {},
   "outputs": [],
   "source": [
    "# Keep rows we managed to link to images\n",
    "df.drop((df[~df[\"image\"].isin(names_file[\"path\"])]).index, inplace=True)\n",
    "df.reset_index(inplace=True, drop=True)"
   ]
  },
  {
   "cell_type": "code",
   "execution_count": 31,
   "id": "c9a762d2-a5e7-43e5-bc79-ffb3c85e45f8",
   "metadata": {},
   "outputs": [
    {
     "data": {
      "text/plain": [
       "49921"
      ]
     },
     "execution_count": 31,
     "metadata": {},
     "output_type": "execute_result"
    }
   ],
   "source": [
    "len(df)"
   ]
  },
  {
   "cell_type": "code",
   "execution_count": 34,
   "id": "d0f7bc4e-eb38-4ea5-82b7-bfb2db73e8e8",
   "metadata": {},
   "outputs": [],
   "source": [
    "batch_size = 512\n",
    "\n",
    "# Function to get the encoded image from its names\n",
    "def find_img(x):\n",
    "    img_locations = names_file[names_file[\"path\"] == x].index\n",
    "    im_f = matrix_images[img_locations, :, :, :]\n",
    "    im_f = np.reshape(im_f, im_f.shape[1:])\n",
    "    # im_f = np.reshape(im_f, [1]+list(im_f.shape))\n",
    "    return np.asarray(im_f).astype(\"float32\")\n",
    "\n",
    "\n",
    "# Get the input for a given batch\n",
    "def get_inputs(batch_x):\n",
    "    labels = pd.to_numeric(batch_x[\"label\"])\n",
    "    # textual_f=numeric_f=ohe_f=None\n",
    "    if df.textual_features:\n",
    "        textual_f = {}\n",
    "        for feature in df.textual_features:\n",
    "            textual_f[feature] = np.asarray(batch_x[feature]).astype(np.float32)\n",
    "\n",
    "    if df.numeric_features:\n",
    "        numeric_f = {}\n",
    "        for feature in df.numeric_features:\n",
    "            numeric_f[feature] = np.asarray(batch_x[feature]).astype(np.float32)\n",
    "\n",
    "    if df.ohe_features:\n",
    "        ohe_f = {}\n",
    "        # print(self.df.L_OHE[0].tolist())\n",
    "        for feature in df.L_OHE[0].tolist():\n",
    "            ohe_f[feature] = np.asarray(batch_x[feature]).astype(np.float32)\n",
    "    try:\n",
    "\n",
    "        # print(np.array(batch_x['image'].apply(find_img).tolist()).shape)\n",
    "        im_f = np.asarray(batch_x[\"image\"].apply(find_img).tolist()).astype(np.float32)\n",
    "        # im_f = np.array(batch_x[\"image\"].apply(find_img).tolist())\n",
    "        # im_f = np.asarray([np.asarray(elem) for elem in im_f])\n",
    "        # print(im_f.shape)\n",
    "    except Exception as e:\n",
    "        print(\"error\", e)\n",
    "        pass\n",
    "    inputs = [textual_f, numeric_f, {\"img\": im_f}]\n",
    "    # print(inputs)\n",
    "    # print(inputs[-1])\n",
    "    return inputs, labels\n",
    "\n",
    "\n",
    "# Custom generator that yields input for the model for a given batch_size\n",
    "def generator_custom(df, batch_size):\n",
    "\n",
    "    start = 0\n",
    "    end = batch_size\n",
    "\n",
    "    while end <= len(df) - batch_size:\n",
    "        # print(start, end, len(df))\n",
    "        batch_x = df.iloc[start:end]\n",
    "\n",
    "        yield get_inputs(batch_x)\n",
    "        start += batch_size\n",
    "        end += batch_size\n",
    "    # print(start,len(df))\n",
    "    batch_x = df.iloc[start:]\n",
    "    return get_inputs(batch_x)"
   ]
  },
  {
   "cell_type": "code",
   "execution_count": 35,
   "id": "e412f5e4-4b29-4482-b581-e4beb997c5a3",
   "metadata": {
    "tags": []
   },
   "outputs": [
    {
     "name": "stderr",
     "output_type": "stream",
     "text": [
      "/tmp/ipykernel_9875/3795264463.py:38: UserWarning: Pandas doesn't allow columns to be created via a new attribute name - see https://pandas.pydata.org/pandas-docs/stable/indexing.html#attribute-access\n",
      "  train_data.L_OHE = df.L_OHE\n",
      "/tmp/ipykernel_9875/3795264463.py:39: UserWarning: Pandas doesn't allow columns to be created via a new attribute name - see https://pandas.pydata.org/pandas-docs/stable/indexing.html#attribute-access\n",
      "  test_data.L_OHE = df.L_OHE\n"
     ]
    },
    {
     "name": "stdout",
     "output_type": "stream",
     "text": [
      "\n",
      "Start of epoch 0\n"
     ]
    },
    {
     "name": "stderr",
     "output_type": "stream",
     "text": [
      "Training: 100%|███████████████████████████████████████████████████████████████████████████████████████████████████████████████████████████████████████████████████████| 72/72 [00:49<00:00,  1.46it/s, loss=1.26e+7, mae=3550]\n"
     ]
    },
    {
     "name": "stdout",
     "output_type": "stream",
     "text": [
      "loss: 2665341, val_loss: 19790070, mae: 1632, val_mae= 4448 \n",
      "\n",
      "Start of epoch 1\n"
     ]
    },
    {
     "name": "stderr",
     "output_type": "stream",
     "text": [
      "Training: 100%|███████████████████████████████████████████████████████████████████████████████████████████████████████████████████████████████████████████████████████| 72/72 [00:48<00:00,  1.47it/s, loss=1.36e+7, mae=3683]\n"
     ]
    },
    {
     "name": "stdout",
     "output_type": "stream",
     "text": [
      "loss: 3426354, val_loss: 20813116, mae: 1851, val_mae= 4562 \n",
      "\n",
      "Start of epoch 2\n"
     ]
    },
    {
     "name": "stderr",
     "output_type": "stream",
     "text": [
      "Training: 100%|███████████████████████████████████████████████████████████████████████████████████████████████████████████████████████████████████████████████████████| 72/72 [00:48<00:00,  1.47it/s, loss=1.22e+7, mae=3491]\n"
     ]
    },
    {
     "name": "stdout",
     "output_type": "stream",
     "text": [
      "loss: 1494398, val_loss: 29609034, mae: 1222, val_mae= 5441 \n",
      "\n",
      "Start of epoch 3\n"
     ]
    },
    {
     "name": "stderr",
     "output_type": "stream",
     "text": [
      "Training: 100%|███████████████████████████████████████████████████████████████████████████████████████████████████████████████████████████████████████████████████████| 72/72 [00:49<00:00,  1.47it/s, loss=1.36e+7, mae=3690]\n"
     ]
    },
    {
     "name": "stdout",
     "output_type": "stream",
     "text": [
      "loss: 1891257, val_loss: 30178462, mae: 1375, val_mae= 5493 \n",
      "\n",
      "Start of epoch 4\n"
     ]
    },
    {
     "name": "stderr",
     "output_type": "stream",
     "text": [
      "Training: 100%|████████████████████████████████████████████████████████████████████████████████████████████████████████████████████████████████████████████████████████| 72/72 [00:51<00:00,  1.40it/s, loss=1.4e+7, mae=3747]\n"
     ]
    },
    {
     "name": "stdout",
     "output_type": "stream",
     "text": [
      "loss: 2029050, val_loss: 32510073, mae: 1424, val_mae= 5701 \n",
      "\n",
      "Start of epoch 5\n"
     ]
    },
    {
     "name": "stderr",
     "output_type": "stream",
     "text": [
      "Training: 100%|███████████████████████████████████████████████████████████████████████████████████████████████████████████████████████████████████████████████████████| 72/72 [00:50<00:00,  1.43it/s, loss=1.78e+7, mae=4215]\n"
     ]
    },
    {
     "name": "stdout",
     "output_type": "stream",
     "text": [
      "loss: 2542697, val_loss: 30628571, mae: 1594, val_mae= 5534 \n",
      "\n",
      "Start of epoch 6\n"
     ]
    },
    {
     "name": "stderr",
     "output_type": "stream",
     "text": [
      "Training: 100%|███████████████████████████████████████████████████████████████████████████████████████████████████████████████████████████████████████████████████████| 72/72 [00:50<00:00,  1.43it/s, loss=1.87e+7, mae=4320]\n"
     ]
    },
    {
     "name": "stdout",
     "output_type": "stream",
     "text": [
      "loss: 2305078, val_loss: 32669558, mae: 1518, val_mae= 5715 \n",
      "\n",
      "Start of epoch 7\n"
     ]
    },
    {
     "name": "stderr",
     "output_type": "stream",
     "text": [
      "Training: 100%|███████████████████████████████████████████████████████████████████████████████████████████████████████████████████████████████████████████████████████| 72/72 [00:52<00:00,  1.38it/s, loss=1.77e+7, mae=4202]\n"
     ]
    },
    {
     "name": "stdout",
     "output_type": "stream",
     "text": [
      "loss: 2261542, val_loss: 33378061, mae: 1503, val_mae= 5777 \n",
      "\n",
      "Start of epoch 8\n"
     ]
    },
    {
     "name": "stderr",
     "output_type": "stream",
     "text": [
      "Training: 100%|███████████████████████████████████████████████████████████████████████████████████████████████████████████████████████████████████████████████████████| 72/72 [00:51<00:00,  1.40it/s, loss=1.61e+7, mae=4011]\n"
     ]
    },
    {
     "name": "stdout",
     "output_type": "stream",
     "text": [
      "loss: 2446759, val_loss: 32494486, mae: 1564, val_mae= 5700 \n",
      "\n",
      "Start of epoch 9\n"
     ]
    },
    {
     "name": "stderr",
     "output_type": "stream",
     "text": [
      "Training: 100%|███████████████████████████████████████████████████████████████████████████████████████████████████████████████████████████████████████████████████████| 72/72 [00:53<00:00,  1.35it/s, loss=2.01e+7, mae=4481]\n"
     ]
    },
    {
     "name": "stdout",
     "output_type": "stream",
     "text": [
      "loss: 2138718, val_loss: 30859366, mae: 1462, val_mae= 5555 \n"
     ]
    }
   ],
   "source": [
    "# Train/ test split\n",
    "# df.L_OHE = None\n",
    "# inputs = df.df_train_test_split(flatten=True)\n",
    "# inputs_train = [\n",
    "#     inputs[\"textual\"][\"train\"],\n",
    "#     inputs[\"numeric\"][\"train\"],\n",
    "#     inputs[\"ohe\"][\"train\"],\n",
    "# ]\n",
    "\n",
    "\n",
    "# Train/test split\n",
    "df.df_train_test_split_index()\n",
    "train_data = df.iloc[df.index_train].reset_index(drop=True)\n",
    "train_data = DataSet(\n",
    "    numeric_features=numeric_features,\n",
    "    textual_features=textual_features,\n",
    "    ohe_features=ohe_features,\n",
    "    data=train_data,\n",
    "    columns=train_data.columns,\n",
    ")\n",
    "\n",
    "test_data = df.iloc[df.index_test].reset_index(drop=True)\n",
    "test_data = DataSet(\n",
    "    numeric_features=numeric_features,\n",
    "    textual_features=textual_features,\n",
    "    ohe_features=ohe_features,\n",
    "    data=test_data,\n",
    "    columns=test_data.columns,\n",
    ")\n",
    "\n",
    "train_data.L_OHE = df.L_OHE\n",
    "test_data.L_OHE = df.L_OHE\n",
    "\n",
    "# Custom training loop\n",
    "epochs = 10\n",
    "for epoch in range(epochs):\n",
    "    # TODO history = {\"loss_value\":[],\"mae_value\":[], \"val_loss\":[],\"val_mae\":[]}\n",
    "    print(\"\\nStart of epoch %d\" % (epoch,))\n",
    "    losses = []\n",
    "    pbar = tqdm(\n",
    "        generator_custom(train_data, batch_size),\n",
    "        total=len(train_data) // batch_size - 1,\n",
    "        desc=\"Training\",\n",
    "    )\n",
    "    for (inputs, outputs) in pbar:\n",
    "        # print(inputs[-1][\"img\"].shape)\n",
    "        Dense_embedding_model.train_on_batch(inputs, outputs)\n",
    "        logits = Dense_embedding_model(\n",
    "            inputs, training=True\n",
    "        )  # Logits for this minibatch\n",
    "\n",
    "        # Compute the loss value for this minibatch.\n",
    "        loss_value = tf.keras.losses.MeanSquaredError()(logits, outputs).numpy()\n",
    "        losses.append(loss_value)\n",
    "        mae_value = int(loss_value ** (1 / 2))\n",
    "        pbar.set_postfix({\"loss\": loss_value, \"mae\": mae_value})\n",
    "    loss_value = sum(losses) / len(losses)\n",
    "    val_losses = []\n",
    "    for (inputs, outputs) in generator_custom(test_data, batch_size):\n",
    "        logits = Dense_embedding_model(\n",
    "            inputs, training=True\n",
    "        )  # Logits for this minibatch\n",
    "        loss_value = tf.keras.losses.MeanSquaredError()(logits, outputs).numpy()\n",
    "        val_losses.append(loss_value)\n",
    "    val_loss = sum(val_losses) / len(val_losses)\n",
    "    print(\n",
    "        f\"loss: {int(loss_value)}, val_loss: {int(val_loss)}, mae: {int(loss_value**(1/2))}, val_mae= {int(val_loss**(1/2))} \"\n",
    "    )"
   ]
  },
  {
   "cell_type": "markdown",
   "id": "ff94af5e-0485-4388-b9f2-434a4ee07333",
   "metadata": {},
   "source": [
    "__NB: The model was fitted on very few examples and doesn't convergence. Some adjustements might be done to the model, and the model might be trained on more examples), also to improve results, one might improve the ConvAutoEncoder__"
   ]
  },
  {
   "cell_type": "code",
   "execution_count": 36,
   "id": "bebf8d8c-9839-40af-89c0-0c422cf03096",
   "metadata": {},
   "outputs": [],
   "source": [
    "list_embedding_clustering = {}\n",
    "# Textual feature we want to keep for the clustering space\n",
    "textual_features_to_keep = [\"State\", \"District\", \"Sub_District\", \"Block\"]\n",
    "for feature in textual_features_to_keep:\n",
    "    # Get trained embedding layer and apply it to the input\n",
    "    list_embedding_clustering[feature] = Flatten()(\n",
    "        Dense_embedding_model.get_layer(f\"Embedding_{feature}\")(\n",
    "            Dense_embedding_model.input[0][feature]\n",
    "        )\n",
    "    )\n",
    "# If there are several features, concatenate all embeddings\n",
    "concatted_clustering = Concatenate(name=\"concatted_clustering\")(\n",
    "    list(list_embedding_clustering.values())\n",
    ")\n",
    "\n",
    "# Define the model for the projection of data onto clustering space\n",
    "model_feature_representation = Model(\n",
    "    inputs=[Dense_embedding_model.input[0]],\n",
    "    outputs=concatted_clustering,\n",
    "    name=\"model_feature_representation\",\n",
    ")"
   ]
  },
  {
   "cell_type": "markdown",
   "id": "8a45e10f-01f3-4f8b-8bcc-d89fda401060",
   "metadata": {},
   "source": [
    "# CLustering model only with embedding of states district etc."
   ]
  },
  {
   "cell_type": "code",
   "execution_count": 48,
   "id": "9bee4c55-ffd8-4bbe-8460-e0de25383b49",
   "metadata": {
    "tags": []
   },
   "outputs": [],
   "source": [
    "# Apply embedding projection model to the input\n",
    "X_train_embedded = model_feature_representation.predict(inputs[0])\n",
    "\n",
    "uniques = np.unique(X_train_embedded, axis=0)"
   ]
  },
  {
   "cell_type": "code",
   "execution_count": 49,
   "id": "72550b2e-ab92-4a3b-9b7a-8014beeea1eb",
   "metadata": {},
   "outputs": [
    {
     "data": {
      "text/plain": [
       "(449, 80)"
      ]
     },
     "execution_count": 49,
     "metadata": {},
     "output_type": "execute_result"
    }
   ],
   "source": [
    "uniques.shape"
   ]
  },
  {
   "cell_type": "markdown",
   "id": "2c43e504-559a-469e-ad7d-3a190e69dad3",
   "metadata": {},
   "source": [
    "# DEC "
   ]
  },
  {
   "cell_type": "code",
   "execution_count": 50,
   "id": "7a4cdb27-4818-4426-a93a-4726db4db8ae",
   "metadata": {},
   "outputs": [],
   "source": [
    "# Define DEC model\n",
    "DEC_model = DEC(dims=[uniques.shape[1]])\n",
    "DEC_model.encoder_models()"
   ]
  },
  {
   "cell_type": "code",
   "execution_count": 51,
   "id": "7bfe7410-12c0-460b-b99e-cf143702d15a",
   "metadata": {
    "collapsed": true,
    "jupyter": {
     "outputs_hidden": true
    },
    "tags": []
   },
   "outputs": [
    {
     "name": "stdout",
     "output_type": "stream",
     "text": [
      "Epoch 1/75\n",
      "3/3 [==============================] - 0s 66ms/step - loss: 0.1212 - mae: 0.2711 - val_loss: 0.1686 - val_mae: 0.3296\n",
      "Epoch 2/75\n",
      "3/3 [==============================] - 0s 18ms/step - loss: 0.1198 - mae: 0.2704 - val_loss: 0.1683 - val_mae: 0.3294\n",
      "Epoch 3/75\n",
      "3/3 [==============================] - 0s 18ms/step - loss: 0.1167 - mae: 0.2678 - val_loss: 0.1681 - val_mae: 0.3292\n",
      "Epoch 4/75\n",
      "3/3 [==============================] - 0s 18ms/step - loss: 0.1172 - mae: 0.2682 - val_loss: 0.1679 - val_mae: 0.3290\n",
      "Epoch 5/75\n",
      "3/3 [==============================] - 0s 19ms/step - loss: 0.1159 - mae: 0.2671 - val_loss: 0.1677 - val_mae: 0.3288\n",
      "Epoch 6/75\n",
      "3/3 [==============================] - 0s 22ms/step - loss: 0.1158 - mae: 0.2666 - val_loss: 0.1675 - val_mae: 0.3286\n",
      "Epoch 7/75\n",
      "3/3 [==============================] - 0s 19ms/step - loss: 0.1157 - mae: 0.2670 - val_loss: 0.1673 - val_mae: 0.3284\n",
      "Epoch 8/75\n",
      "3/3 [==============================] - 0s 18ms/step - loss: 0.1143 - mae: 0.2659 - val_loss: 0.1671 - val_mae: 0.3283\n",
      "Epoch 9/75\n",
      "3/3 [==============================] - 0s 19ms/step - loss: 0.1143 - mae: 0.2651 - val_loss: 0.1669 - val_mae: 0.3281\n",
      "Epoch 10/75\n",
      "3/3 [==============================] - 0s 15ms/step - loss: 0.1138 - mae: 0.2648 - val_loss: 0.1667 - val_mae: 0.3279\n",
      "Epoch 11/75\n",
      "3/3 [==============================] - 0s 22ms/step - loss: 0.1130 - mae: 0.2644 - val_loss: 0.1666 - val_mae: 0.3277\n",
      "Epoch 12/75\n",
      "3/3 [==============================] - 0s 23ms/step - loss: 0.1122 - mae: 0.2636 - val_loss: 0.1664 - val_mae: 0.3276\n",
      "Epoch 13/75\n",
      "3/3 [==============================] - 0s 20ms/step - loss: 0.1107 - mae: 0.2624 - val_loss: 0.1662 - val_mae: 0.3274\n",
      "Epoch 14/75\n",
      "3/3 [==============================] - 0s 21ms/step - loss: 0.1105 - mae: 0.2622 - val_loss: 0.1661 - val_mae: 0.3273\n",
      "Epoch 15/75\n",
      "3/3 [==============================] - 0s 34ms/step - loss: 0.1095 - mae: 0.2609 - val_loss: 0.1659 - val_mae: 0.3271\n",
      "Epoch 16/75\n",
      "3/3 [==============================] - 0s 32ms/step - loss: 0.1099 - mae: 0.2612 - val_loss: 0.1658 - val_mae: 0.3270\n",
      "Epoch 17/75\n",
      "3/3 [==============================] - 0s 26ms/step - loss: 0.1098 - mae: 0.2608 - val_loss: 0.1656 - val_mae: 0.3268\n",
      "Epoch 18/75\n",
      "3/3 [==============================] - 0s 17ms/step - loss: 0.1087 - mae: 0.2600 - val_loss: 0.1655 - val_mae: 0.3267\n",
      "Epoch 19/75\n",
      "3/3 [==============================] - 0s 19ms/step - loss: 0.1086 - mae: 0.2600 - val_loss: 0.1653 - val_mae: 0.3265\n",
      "Epoch 20/75\n",
      "3/3 [==============================] - 0s 19ms/step - loss: 0.1087 - mae: 0.2600 - val_loss: 0.1652 - val_mae: 0.3264\n",
      "Epoch 21/75\n",
      "3/3 [==============================] - 0s 19ms/step - loss: 0.1078 - mae: 0.2586 - val_loss: 0.1651 - val_mae: 0.3262\n",
      "Epoch 22/75\n",
      "3/3 [==============================] - 0s 19ms/step - loss: 0.1076 - mae: 0.2589 - val_loss: 0.1649 - val_mae: 0.3261\n",
      "Epoch 23/75\n",
      "3/3 [==============================] - 0s 19ms/step - loss: 0.1076 - mae: 0.2587 - val_loss: 0.1648 - val_mae: 0.3260\n",
      "Epoch 24/75\n",
      "3/3 [==============================] - 0s 20ms/step - loss: 0.1063 - mae: 0.2578 - val_loss: 0.1647 - val_mae: 0.3258\n",
      "Epoch 25/75\n",
      "3/3 [==============================] - 0s 18ms/step - loss: 0.1078 - mae: 0.2591 - val_loss: 0.1646 - val_mae: 0.3257\n",
      "Epoch 26/75\n",
      "3/3 [==============================] - 0s 19ms/step - loss: 0.1062 - mae: 0.2580 - val_loss: 0.1645 - val_mae: 0.3256\n",
      "Epoch 27/75\n",
      "3/3 [==============================] - 0s 18ms/step - loss: 0.1058 - mae: 0.2566 - val_loss: 0.1644 - val_mae: 0.3254\n",
      "Epoch 28/75\n",
      "3/3 [==============================] - 0s 29ms/step - loss: 0.1060 - mae: 0.2569 - val_loss: 0.1642 - val_mae: 0.3253\n",
      "Epoch 29/75\n",
      "3/3 [==============================] - 0s 31ms/step - loss: 0.1053 - mae: 0.2570 - val_loss: 0.1641 - val_mae: 0.3252\n",
      "Epoch 30/75\n",
      "3/3 [==============================] - 0s 31ms/step - loss: 0.1052 - mae: 0.2564 - val_loss: 0.1640 - val_mae: 0.3251\n",
      "Epoch 31/75\n",
      "3/3 [==============================] - 0s 24ms/step - loss: 0.1057 - mae: 0.2570 - val_loss: 0.1639 - val_mae: 0.3249\n",
      "Epoch 32/75\n",
      "3/3 [==============================] - 0s 19ms/step - loss: 0.1058 - mae: 0.2561 - val_loss: 0.1638 - val_mae: 0.3248\n",
      "Epoch 33/75\n",
      "3/3 [==============================] - 0s 21ms/step - loss: 0.1047 - mae: 0.2555 - val_loss: 0.1637 - val_mae: 0.3247\n",
      "Epoch 34/75\n",
      "3/3 [==============================] - 0s 27ms/step - loss: 0.1039 - mae: 0.2550 - val_loss: 0.1636 - val_mae: 0.3246\n",
      "Epoch 35/75\n",
      "3/3 [==============================] - 0s 27ms/step - loss: 0.1038 - mae: 0.2548 - val_loss: 0.1635 - val_mae: 0.3245\n",
      "Epoch 36/75\n",
      "3/3 [==============================] - 0s 31ms/step - loss: 0.1039 - mae: 0.2544 - val_loss: 0.1634 - val_mae: 0.3243\n",
      "Epoch 37/75\n",
      "3/3 [==============================] - 0s 27ms/step - loss: 0.1032 - mae: 0.2546 - val_loss: 0.1633 - val_mae: 0.3242\n",
      "Epoch 38/75\n",
      "3/3 [==============================] - 0s 19ms/step - loss: 0.1035 - mae: 0.2539 - val_loss: 0.1632 - val_mae: 0.3241\n",
      "Epoch 39/75\n",
      "3/3 [==============================] - 0s 18ms/step - loss: 0.1036 - mae: 0.2542 - val_loss: 0.1631 - val_mae: 0.3240\n",
      "Epoch 40/75\n",
      "3/3 [==============================] - 0s 23ms/step - loss: 0.1028 - mae: 0.2535 - val_loss: 0.1631 - val_mae: 0.3239\n",
      "Epoch 41/75\n",
      "3/3 [==============================] - 0s 25ms/step - loss: 0.1032 - mae: 0.2541 - val_loss: 0.1630 - val_mae: 0.3238\n",
      "Epoch 42/75\n",
      "3/3 [==============================] - 0s 33ms/step - loss: 0.1024 - mae: 0.2530 - val_loss: 0.1629 - val_mae: 0.3236\n",
      "Epoch 43/75\n",
      "3/3 [==============================] - 0s 28ms/step - loss: 0.1018 - mae: 0.2523 - val_loss: 0.1628 - val_mae: 0.3235\n",
      "Epoch 44/75\n",
      "3/3 [==============================] - 0s 19ms/step - loss: 0.1023 - mae: 0.2525 - val_loss: 0.1627 - val_mae: 0.3234\n",
      "Epoch 45/75\n",
      "3/3 [==============================] - 0s 18ms/step - loss: 0.1020 - mae: 0.2524 - val_loss: 0.1626 - val_mae: 0.3233\n",
      "Epoch 46/75\n",
      "3/3 [==============================] - 0s 18ms/step - loss: 0.1015 - mae: 0.2523 - val_loss: 0.1626 - val_mae: 0.3232\n",
      "Epoch 47/75\n",
      "3/3 [==============================] - 0s 18ms/step - loss: 0.1014 - mae: 0.2518 - val_loss: 0.1625 - val_mae: 0.3231\n",
      "Epoch 48/75\n",
      "3/3 [==============================] - 0s 20ms/step - loss: 0.1019 - mae: 0.2521 - val_loss: 0.1624 - val_mae: 0.3230\n",
      "Epoch 49/75\n",
      "3/3 [==============================] - 0s 20ms/step - loss: 0.1014 - mae: 0.2515 - val_loss: 0.1623 - val_mae: 0.3229\n",
      "Epoch 50/75\n",
      "3/3 [==============================] - 0s 20ms/step - loss: 0.1005 - mae: 0.2508 - val_loss: 0.1622 - val_mae: 0.3228\n",
      "Epoch 51/75\n",
      "3/3 [==============================] - 0s 22ms/step - loss: 0.1008 - mae: 0.2510 - val_loss: 0.1622 - val_mae: 0.3227\n",
      "Epoch 52/75\n",
      "3/3 [==============================] - 0s 21ms/step - loss: 0.1003 - mae: 0.2506 - val_loss: 0.1621 - val_mae: 0.3226\n",
      "Epoch 53/75\n",
      "3/3 [==============================] - 0s 19ms/step - loss: 0.1010 - mae: 0.2510 - val_loss: 0.1620 - val_mae: 0.3225\n",
      "Epoch 54/75\n",
      "3/3 [==============================] - 0s 19ms/step - loss: 0.1005 - mae: 0.2512 - val_loss: 0.1619 - val_mae: 0.3224\n",
      "Epoch 55/75\n",
      "3/3 [==============================] - 0s 20ms/step - loss: 0.1004 - mae: 0.2503 - val_loss: 0.1619 - val_mae: 0.3223\n",
      "Epoch 56/75\n",
      "3/3 [==============================] - 0s 30ms/step - loss: 0.1008 - mae: 0.2508 - val_loss: 0.1618 - val_mae: 0.3222\n",
      "Epoch 57/75\n",
      "3/3 [==============================] - 0s 19ms/step - loss: 0.1003 - mae: 0.2502 - val_loss: 0.1617 - val_mae: 0.3221\n",
      "Epoch 58/75\n",
      "3/3 [==============================] - 0s 18ms/step - loss: 0.1002 - mae: 0.2501 - val_loss: 0.1617 - val_mae: 0.3220\n",
      "Epoch 59/75\n",
      "3/3 [==============================] - 0s 18ms/step - loss: 0.1007 - mae: 0.2503 - val_loss: 0.1616 - val_mae: 0.3219\n",
      "Epoch 60/75\n",
      "3/3 [==============================] - 0s 19ms/step - loss: 0.0999 - mae: 0.2498 - val_loss: 0.1615 - val_mae: 0.3218\n",
      "Epoch 61/75\n",
      "3/3 [==============================] - 0s 19ms/step - loss: 0.0995 - mae: 0.2497 - val_loss: 0.1615 - val_mae: 0.3217\n",
      "Epoch 62/75\n",
      "3/3 [==============================] - 0s 22ms/step - loss: 0.0993 - mae: 0.2491 - val_loss: 0.1614 - val_mae: 0.3216\n",
      "Epoch 63/75\n",
      "3/3 [==============================] - 0s 19ms/step - loss: 0.0994 - mae: 0.2492 - val_loss: 0.1613 - val_mae: 0.3215\n",
      "Epoch 64/75\n",
      "3/3 [==============================] - 0s 20ms/step - loss: 0.0993 - mae: 0.2489 - val_loss: 0.1613 - val_mae: 0.3214\n",
      "Epoch 65/75\n",
      "3/3 [==============================] - 0s 21ms/step - loss: 0.0996 - mae: 0.2495 - val_loss: 0.1612 - val_mae: 0.3213\n",
      "Epoch 66/75\n",
      "3/3 [==============================] - 0s 18ms/step - loss: 0.0990 - mae: 0.2487 - val_loss: 0.1611 - val_mae: 0.3212\n",
      "Epoch 67/75\n",
      "3/3 [==============================] - 0s 22ms/step - loss: 0.0988 - mae: 0.2480 - val_loss: 0.1611 - val_mae: 0.3211\n",
      "Epoch 68/75\n",
      "3/3 [==============================] - 0s 20ms/step - loss: 0.0993 - mae: 0.2490 - val_loss: 0.1610 - val_mae: 0.3210\n",
      "Epoch 69/75\n",
      "3/3 [==============================] - 0s 18ms/step - loss: 0.0986 - mae: 0.2483 - val_loss: 0.1609 - val_mae: 0.3209\n",
      "Epoch 70/75\n",
      "3/3 [==============================] - 0s 18ms/step - loss: 0.0977 - mae: 0.2476 - val_loss: 0.1609 - val_mae: 0.3208\n",
      "Epoch 71/75\n",
      "3/3 [==============================] - 0s 20ms/step - loss: 0.0982 - mae: 0.2478 - val_loss: 0.1608 - val_mae: 0.3207\n",
      "Epoch 72/75\n",
      "3/3 [==============================] - 0s 21ms/step - loss: 0.0980 - mae: 0.2472 - val_loss: 0.1608 - val_mae: 0.3206\n",
      "Epoch 73/75\n",
      "3/3 [==============================] - 0s 23ms/step - loss: 0.0977 - mae: 0.2468 - val_loss: 0.1607 - val_mae: 0.3206\n",
      "Epoch 74/75\n",
      "3/3 [==============================] - 0s 20ms/step - loss: 0.0977 - mae: 0.2468 - val_loss: 0.1607 - val_mae: 0.3205\n",
      "Epoch 75/75\n",
      "3/3 [==============================] - 0s 19ms/step - loss: 0.0976 - mae: 0.2466 - val_loss: 0.1606 - val_mae: 0.3204\n"
     ]
    }
   ],
   "source": [
    "# Train AE\n",
    "history = DEC_model.model_AE.fit(\n",
    "    uniques,\n",
    "    uniques,\n",
    "    epochs=75,\n",
    "    batch_size=128,\n",
    "    validation_split=0.3,\n",
    ")"
   ]
  },
  {
   "cell_type": "code",
   "execution_count": 52,
   "id": "85b5e4ee-cda2-4767-9306-e04717bb2718",
   "metadata": {},
   "outputs": [
    {
     "data": {
      "text/plain": [
       "<matplotlib.legend.Legend at 0x7fc388521b50>"
      ]
     },
     "execution_count": 52,
     "metadata": {},
     "output_type": "execute_result"
    },
    {
     "data": {
      "image/png": "[encoded data removed]",
      "text/plain": [
       "<Figure size 1080x1080 with 1 Axes>"
      ]
     },
     "metadata": {},
     "output_type": "display_data"
    }
   ],
   "source": [
    "# Visualize training\n",
    "sns.set_theme()\n",
    "plt.plot(history.history[\"mae\"], label=\"MAE\")\n",
    "plt.ylabel(\"Value of mae\")\n",
    "plt.xlabel(\"Number of epochs\")\n",
    "# ticks = plt.xticks(np.arange(1, epochs+1))\n",
    "plt.plot(history.history[\"val_mae\"], label=\"VAL_MAE\")\n",
    "plt.title(\"MAE and val_mae wrt. number of epochs\")\n",
    "plt.legend()"
   ]
  },
  {
   "cell_type": "code",
   "execution_count": 53,
   "id": "bb70def8-9737-4536-bae4-5e2832419654",
   "metadata": {},
   "outputs": [],
   "source": [
    "# Get encodings from inputs\n",
    "features = DEC_model.model_Encoder.predict(uniques)"
   ]
  },
  {
   "cell_type": "code",
   "execution_count": 54,
   "id": "38dcea37-0a1e-417e-8e70-cbdd5269c869",
   "metadata": {},
   "outputs": [],
   "source": [
    "# Apply a Kmeans to visualize quickly results from AE\n",
    "alpha = 0\n",
    "n_clusters = 5\n",
    "input_dim = 2\n",
    "model_kmeans = KMeans(n_clusters).fit(features)\n",
    "centroids_init = model_kmeans.cluster_centers_"
   ]
  },
  {
   "cell_type": "code",
   "execution_count": 55,
   "id": "0c70c3a1-6379-4dd5-8c9a-80d3003ea065",
   "metadata": {},
   "outputs": [
    {
     "data": {
      "text/plain": [
       "<matplotlib.collections.PathCollection at 0x7fc3883df1c0>"
      ]
     },
     "execution_count": 55,
     "metadata": {},
     "output_type": "execute_result"
    },
    {
     "data": {
      "image/png": "[encoded data removed]",
      "text/plain": [
       "<Figure size 1080x1080 with 1 Axes>"
      ]
     },
     "metadata": {},
     "output_type": "display_data"
    }
   ],
   "source": [
    "# Visualize embedding after AE\n",
    "pca = PCA(n_components=2)\n",
    "pca_features = pca.fit_transform(features)\n",
    "plt.scatter(pca_features[:, 0], pca_features[:, 1])"
   ]
  },
  {
   "cell_type": "code",
   "execution_count": 56,
   "id": "4530cdd7-1e15-4993-b226-b6e4a9f86888",
   "metadata": {},
   "outputs": [
    {
     "data": {
      "text/plain": [
       "<matplotlib.collections.PathCollection at 0x7fc3883ac790>"
      ]
     },
     "execution_count": 56,
     "metadata": {},
     "output_type": "execute_result"
    },
    {
     "data": {
      "image/png": "[encoded data removed]",
      "text/plain": [
       "<Figure size 1080x1080 with 1 Axes>"
      ]
     },
     "metadata": {},
     "output_type": "display_data"
    }
   ],
   "source": [
    "# Visualize embedding after AE with KMeans predictions\n",
    "plt.scatter(\n",
    "    pca_features[:, 0], pca_features[:, 1], c=model_kmeans.labels_.astype(float)\n",
    ")"
   ]
  },
  {
   "cell_type": "code",
   "execution_count": 57,
   "id": "6263fc3b-64e5-4152-8355-c0941a0afc18",
   "metadata": {},
   "outputs": [
    {
     "data": {
      "text/plain": [
       "0    180\n",
       "4    107\n",
       "2     68\n",
       "3     60\n",
       "1     34\n",
       "dtype: int64"
      ]
     },
     "execution_count": 57,
     "metadata": {},
     "output_type": "execute_result"
    }
   ],
   "source": [
    "# Repartition of label\n",
    "pd.Series(model_kmeans.labels_).value_counts()"
   ]
  },
  {
   "cell_type": "code",
   "execution_count": 58,
   "id": "dbfebdbe-de00-403c-9cf0-62cfa42fb94b",
   "metadata": {},
   "outputs": [
    {
     "data": {
      "text/plain": [
       "0.9794052523824069"
      ]
     },
     "execution_count": 58,
     "metadata": {},
     "output_type": "execute_result"
    }
   ],
   "source": [
    "# Davies bouldin index of KMeans\n",
    "davies_bouldin_score(features, model_kmeans.predict(features))"
   ]
  },
  {
   "cell_type": "code",
   "execution_count": 59,
   "id": "143f330f-ad32-4ee9-8467-2c52073e211b",
   "metadata": {},
   "outputs": [
    {
     "name": "stdout",
     "output_type": "stream",
     "text": [
      "Loss value:0 for iteration 0\n",
      "Loss value:0.004053990822285414 for iteration 1000\n",
      "Loss value:0.007781102322041988 for iteration 2000\n",
      "Loss value:0.034368883818387985 for iteration 3000\n",
      "Loss value:0.08009428530931473 for iteration 4000\n",
      "Loss value:0.10702415555715561 for iteration 5000\n",
      "Loss value:0.12587246298789978 for iteration 6000\n",
      "Loss value:0.13231168687343597 for iteration 7000\n",
      "Loss value:0.13242368400096893 for iteration 8000\n",
      "Loss value:0.12532268464565277 for iteration 9000\n",
      "Loss value:0.12888368964195251 for iteration 10000\n",
      "delta_label  0.0 < tol  0.001\n",
      "Reached tolerance threshold. Stopping training.\n"
     ]
    }
   ],
   "source": [
    "# Fine tune DEC\n",
    "DEC_model.compile(optimizer=SGD(0.01, 0.9), loss=\"kld\")\n",
    "y_pred, p, q, x = DEC_model.fit(x=uniques, n_clusters=6)"
   ]
  },
  {
   "cell_type": "code",
   "execution_count": 61,
   "id": "8b671329-c950-4929-8356-ea1b77da17fd",
   "metadata": {},
   "outputs": [
    {
     "data": {
      "text/plain": [
       "0.2431166494936261"
      ]
     },
     "execution_count": 61,
     "metadata": {},
     "output_type": "execute_result"
    }
   ],
   "source": [
    "# Davies bouldin index of DEC\n",
    "davies_bouldin_score(q, y_pred)"
   ]
  },
  {
   "cell_type": "code",
   "execution_count": 62,
   "id": "edc353be-b9ba-4587-938d-611d244b1af1",
   "metadata": {
    "tags": []
   },
   "outputs": [
    {
     "data": {
      "text/plain": [
       "<matplotlib.collections.PathCollection at 0x7fc3880ace80>"
      ]
     },
     "execution_count": 62,
     "metadata": {},
     "output_type": "execute_result"
    },
    {
     "data": {
      "image/png": "[encoded data removed]",
      "text/plain": [
       "<Figure size 1080x1080 with 1 Axes>"
      ]
     },
     "metadata": {},
     "output_type": "display_data"
    }
   ],
   "source": [
    "# Visualize embedding after AE with DEC predictions\n",
    "pca = PCA(n_components=2)\n",
    "pca_q = pca.fit_transform(q)\n",
    "plt.scatter(pca_q[:, 0], pca_q[:, 1], c=y_pred)"
   ]
  },
  {
   "cell_type": "code",
   "execution_count": 63,
   "id": "8e4ada0a-ab78-49b9-b916-7925e222a161",
   "metadata": {},
   "outputs": [
    {
     "data": {
      "text/plain": [
       "0    106\n",
       "4     77\n",
       "3     76\n",
       "2     73\n",
       "1     68\n",
       "5     49\n",
       "dtype: int64"
      ]
     },
     "execution_count": 63,
     "metadata": {},
     "output_type": "execute_result"
    }
   ],
   "source": [
    "# Repartition of the label\n",
    "pd.DataFrame(y_pred).value_counts()"
   ]
  }
 ],
 "metadata": {
  "kernelspec": {
   "display_name": "Python 3 (ipykernel)",
   "language": "python",
   "name": "python3"
  },
  "language_info": {
   "codemirror_mode": {
    "name": "ipython",
    "version": 3
   },
   "file_extension": ".py",
   "mimetype": "text/x-python",
   "name": "python",
   "nbconvert_exporter": "python",
   "pygments_lexer": "ipython3",
   "version": "3.8.10"
  },
  "toc-autonumbering": true,
  "toc-showtags": false
 },
 "nbformat": 4,
 "nbformat_minor": 5
}

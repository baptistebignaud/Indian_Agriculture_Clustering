{
 "cells": [
  {
   "cell_type": "markdown",
   "id": "bdd7b85e-f804-401e-bd8d-3f7cb20bc229",
   "metadata": {},
   "source": [
    "__This Notebook is just a draft if one might want to use VDSA dataset as a temporal dataset. Indeed, some years are missing (the dataset ended in 2011 and could not be linked to all years from our raw dataset). Thus one could try to extrapolate years values to next years which is nevertheless very difficult because of refresh rate (which is yearly based). Thus an average over years is used to incorporate VDSA dataset for the moment__"
   ]
  },
  {
   "cell_type": "markdown",
   "id": "cf52ff6b-5016-4a3c-abb8-d2b9317ed9ca",
   "metadata": {},
   "source": [
    "# Import librairies"
   ]
  },
  {
   "cell_type": "code",
   "execution_count": 228,
   "id": "d5481c2d-51a0-4e99-b2c0-3be5c464cf19",
   "metadata": {},
   "outputs": [],
   "source": [
    "import pandas as pd\n",
    "from statsmodels.tsa.arima.model import ARIMA\n",
    "import matplotlib.pyplot as plt\n",
    "import numpy as np\n",
    "from random import choice"
   ]
  },
  {
   "cell_type": "markdown",
   "id": "cd6faeab-7f11-41b5-a61c-b402d13e4590",
   "metadata": {},
   "source": [
    "# Load a dataset"
   ]
  },
  {
   "cell_type": "code",
   "execution_count": 232,
   "id": "17c7d4e0-577c-455b-99de-64e4b83cd188",
   "metadata": {},
   "outputs": [],
   "source": [
    "# Load a dataset for a test\n",
    "df = pd.read_excel(\"../dataset vdsa/Assam/dt_fert_consumption_a_web.xlsx\")\n",
    "df.fillna(0, inplace=True)"
   ]
  },
  {
   "cell_type": "code",
   "execution_count": 241,
   "id": "fa65abef-69dd-4f6f-9699-84ea7afd8ebf",
   "metadata": {},
   "outputs": [
    {
     "name": "stderr",
     "output_type": "stream",
     "text": [
      "/usr/local/lib/python3.8/dist-packages/statsmodels/base/model.py:604: ConvergenceWarning: Maximum Likelihood optimization failed to converge. Check mle_retvals\n",
      "  warnings.warn(\"Maximum Likelihood optimization failed to \"\n",
      "/usr/local/lib/python3.8/dist-packages/statsmodels/base/model.py:604: ConvergenceWarning: Maximum Likelihood optimization failed to converge. Check mle_retvals\n",
      "  warnings.warn(\"Maximum Likelihood optimization failed to \"\n",
      "/usr/local/lib/python3.8/dist-packages/statsmodels/base/model.py:604: ConvergenceWarning: Maximum Likelihood optimization failed to converge. Check mle_retvals\n",
      "  warnings.warn(\"Maximum Likelihood optimization failed to \"\n",
      "/usr/local/lib/python3.8/dist-packages/statsmodels/base/model.py:604: ConvergenceWarning: Maximum Likelihood optimization failed to converge. Check mle_retvals\n",
      "  warnings.warn(\"Maximum Likelihood optimization failed to \"\n",
      "/usr/local/lib/python3.8/dist-packages/statsmodels/base/model.py:604: ConvergenceWarning: Maximum Likelihood optimization failed to converge. Check mle_retvals\n",
      "  warnings.warn(\"Maximum Likelihood optimization failed to \"\n",
      "/usr/local/lib/python3.8/dist-packages/statsmodels/base/model.py:604: ConvergenceWarning: Maximum Likelihood optimization failed to converge. Check mle_retvals\n",
      "  warnings.warn(\"Maximum Likelihood optimization failed to \"\n",
      "/usr/local/lib/python3.8/dist-packages/statsmodels/base/model.py:604: ConvergenceWarning: Maximum Likelihood optimization failed to converge. Check mle_retvals\n",
      "  warnings.warn(\"Maximum Likelihood optimization failed to \"\n",
      "/usr/local/lib/python3.8/dist-packages/statsmodels/base/model.py:604: ConvergenceWarning: Maximum Likelihood optimization failed to converge. Check mle_retvals\n",
      "  warnings.warn(\"Maximum Likelihood optimization failed to \"\n"
     ]
    }
   ],
   "source": [
    "models = {}\n",
    "fertilizers = [\"N_TC\", \"P_TC\", \"K_TC\", \"NPK_TC\"]\n",
    "states_problems = []\n",
    "for distname in df[\"DISTNAME\"].unique():\n",
    "    # For every district\n",
    "    error = False\n",
    "    #     print(distname)\n",
    "    models[distname] = {}\n",
    "    # Get the data for the district\n",
    "    inter_df = df[df[\"DISTNAME\"] == distname].reset_index()\n",
    "    series = {}\n",
    "    for fert in fertilizers:\n",
    "\n",
    "        # print(pd.Series(df[df[\"DISTNAME\"]==distname][fert]))\n",
    "        # print(pd.Series(df[df[\"DISTNAME\"]==distname][\"YEAR\"]))\n",
    "\n",
    "        # Get series with fertilizer and year\n",
    "        s = inter_df[[\"YEAR\", fert]]\n",
    "        # Reindex with the years\n",
    "        s = s.set_index(\"YEAR\")\n",
    "        if len(s) <= 10:\n",
    "            # if not enough yyears\n",
    "            states_problems.append([distname, fert])\n",
    "            # Take random district to fill it (could be improved by taking a random district of the same state)\n",
    "            inter_df = df[\n",
    "                df[\"DISTNAME\"]\n",
    "                == choice(\n",
    "                    [\n",
    "                        elem\n",
    "                        for elem in df[\"DISTNAME\"].unique()\n",
    "                        if len(df[df[\"DISTNAME\"] == elem]) >= 10\n",
    "                    ]\n",
    "                )\n",
    "            ].reset_index()\n",
    "            s = inter_df[[\"YEAR\", fert]]\n",
    "            s = s.set_index(\"YEAR\")\n",
    "        # Get period range for the years range from the data\n",
    "        s.index = pd.period_range(start=s.index[0], periods=len(s.index), freq=\"A\")\n",
    "        # s.index=[datetime.strptime(str(elem), '%Y') for elem in s.index]\n",
    "\n",
    "        # Define ARIMA MODEL\n",
    "        model = ARIMA(s, order=(5, 1, 0), freq=\"A\", enforce_stationarity=False)\n",
    "        model_fit = model.fit()\n",
    "        # print(model_fit.summary())\n",
    "        # Keep track of models\n",
    "        models[distname][fert] = model\n",
    "        predictions = []\n",
    "\n",
    "        # Predict the next years\n",
    "        for t in range(9):\n",
    "            model = ARIMA(s, freq=\"A\", order=(5, 1, 0), enforce_stationarity=False)\n",
    "            model_fit = model.fit()\n",
    "            output = model_fit.forecast()\n",
    "            yhat = output[0]\n",
    "            predictions.append(yhat)\n",
    "            s.at[str(2011 + t)] = yhat\n",
    "\n",
    "        s[\"YEAR\"] = s.index\n",
    "        s.reset_index(drop=True, inplace=True)\n",
    "        series[\"YEAR\"] = s[\"YEAR\"]\n",
    "        s.drop(columns=[\"YEAR\"], inplace=True)\n",
    "        series[fert] = s.squeeze()\n",
    "\n",
    "        # Add new years to the dataframe\n",
    "        df2 = pd.DataFrame(\n",
    "            inter_df[[\"STCODE\", \"STNAME\", \"DIST\", \"DISTNAME\"]]\n",
    "            .iloc[0:1]\n",
    "            .loc[\n",
    "                inter_df[[\"STCODE\", \"STNAME\", \"DIST\", \"DISTNAME\"]]\n",
    "                .iloc[0:1]\n",
    "                .index.repeat(len(series[\"YEAR\"]))\n",
    "            ]\n",
    "        ).reset_index(drop=True)\n",
    "        df = df[df[\"DISTNAME\"] != distname]\n",
    "        df = df.append(\n",
    "            pd.concat([pd.DataFrame(series), df2], axis=1), ignore_index=True\n",
    "        )\n",
    "\n",
    "    # break"
   ]
  }
 ],
 "metadata": {
  "kernelspec": {
   "display_name": "Python 3 (ipykernel)",
   "language": "python",
   "name": "python3"
  },
  "language_info": {
   "codemirror_mode": {
    "name": "ipython",
    "version": 3
   },
   "file_extension": ".py",
   "mimetype": "text/x-python",
   "name": "python",
   "nbconvert_exporter": "python",
   "pygments_lexer": "ipython3",
   "version": "3.8.10"
  }
 },
 "nbformat": 4,
 "nbformat_minor": 5
}
